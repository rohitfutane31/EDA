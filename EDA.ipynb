{
 "cells": [
  {
   "cell_type": "code",
   "execution_count": 1,
   "id": "73b8349d-ac01-4304-a71b-46276c161da6",
   "metadata": {},
   "outputs": [],
   "source": [
    "import numpy as np"
   ]
  },
  {
   "cell_type": "code",
   "execution_count": 2,
   "id": "9778081c-6b6f-4ea5-b590-b22430d30d33",
   "metadata": {},
   "outputs": [],
   "source": [
    "import pandas as pd"
   ]
  },
  {
   "cell_type": "code",
   "execution_count": 3,
   "id": "6e35daa1-ec7a-4dd2-bcce-7e0a9fcc4b74",
   "metadata": {},
   "outputs": [],
   "source": [
    "import matplotlib.pyplot as plt"
   ]
  },
  {
   "cell_type": "code",
   "execution_count": 4,
   "id": "468c8450-9a6c-4649-aab5-dc1728553581",
   "metadata": {},
   "outputs": [],
   "source": [
    "emp = pd.read_excel(r'C:\\Data science\\Final day\\N_Batch -- 8.30AM _ J25\\N_Batch -- 8.30AM _ J25\\3. SEP\\2nd- EDA Practicle\\EDA- Practicle\\Rawdata.xlsx')"
   ]
  },
  {
   "cell_type": "code",
   "execution_count": 5,
   "id": "bb7fb1e4-bf8a-4fd2-a982-0aed565e5de1",
   "metadata": {},
   "outputs": [
    {
     "data": {
      "text/html": [
       "<div>\n",
       "<style scoped>\n",
       "    .dataframe tbody tr th:only-of-type {\n",
       "        vertical-align: middle;\n",
       "    }\n",
       "\n",
       "    .dataframe tbody tr th {\n",
       "        vertical-align: top;\n",
       "    }\n",
       "\n",
       "    .dataframe thead th {\n",
       "        text-align: right;\n",
       "    }\n",
       "</style>\n",
       "<table border=\"1\" class=\"dataframe\">\n",
       "  <thead>\n",
       "    <tr style=\"text-align: right;\">\n",
       "      <th></th>\n",
       "      <th>Name</th>\n",
       "      <th>Domain</th>\n",
       "      <th>Age</th>\n",
       "      <th>Location</th>\n",
       "      <th>Salary</th>\n",
       "      <th>Exp</th>\n",
       "    </tr>\n",
       "  </thead>\n",
       "  <tbody>\n",
       "    <tr>\n",
       "      <th>0</th>\n",
       "      <td>Mike</td>\n",
       "      <td>Datascience#$</td>\n",
       "      <td>34 years</td>\n",
       "      <td>Mumbai</td>\n",
       "      <td>5^00#0</td>\n",
       "      <td>2+</td>\n",
       "    </tr>\n",
       "    <tr>\n",
       "      <th>1</th>\n",
       "      <td>Teddy^</td>\n",
       "      <td>Testing</td>\n",
       "      <td>45' yr</td>\n",
       "      <td>Bangalore</td>\n",
       "      <td>10%%000</td>\n",
       "      <td>&lt;3</td>\n",
       "    </tr>\n",
       "    <tr>\n",
       "      <th>2</th>\n",
       "      <td>Uma#r</td>\n",
       "      <td>Dataanalyst^^#</td>\n",
       "      <td>NaN</td>\n",
       "      <td>NaN</td>\n",
       "      <td>1$5%000</td>\n",
       "      <td>4&gt; yrs</td>\n",
       "    </tr>\n",
       "    <tr>\n",
       "      <th>3</th>\n",
       "      <td>Jane</td>\n",
       "      <td>Ana^^lytics</td>\n",
       "      <td>NaN</td>\n",
       "      <td>Hyderbad</td>\n",
       "      <td>2000^0</td>\n",
       "      <td>NaN</td>\n",
       "    </tr>\n",
       "    <tr>\n",
       "      <th>4</th>\n",
       "      <td>Uttam*</td>\n",
       "      <td>Statistics</td>\n",
       "      <td>67-yr</td>\n",
       "      <td>NaN</td>\n",
       "      <td>30000-</td>\n",
       "      <td>5+ year</td>\n",
       "    </tr>\n",
       "    <tr>\n",
       "      <th>5</th>\n",
       "      <td>Kim</td>\n",
       "      <td>NLP</td>\n",
       "      <td>55yr</td>\n",
       "      <td>Delhi</td>\n",
       "      <td>6000^$0</td>\n",
       "      <td>10+</td>\n",
       "    </tr>\n",
       "  </tbody>\n",
       "</table>\n",
       "</div>"
      ],
      "text/plain": [
       "     Name          Domain       Age   Location   Salary      Exp\n",
       "0    Mike   Datascience#$  34 years     Mumbai   5^00#0       2+\n",
       "1  Teddy^         Testing    45' yr  Bangalore  10%%000       <3\n",
       "2   Uma#r  Dataanalyst^^#       NaN        NaN  1$5%000   4> yrs\n",
       "3    Jane     Ana^^lytics       NaN   Hyderbad   2000^0      NaN\n",
       "4  Uttam*      Statistics     67-yr        NaN   30000-  5+ year\n",
       "5     Kim             NLP      55yr      Delhi  6000^$0      10+"
      ]
     },
     "execution_count": 5,
     "metadata": {},
     "output_type": "execute_result"
    }
   ],
   "source": [
    "emp"
   ]
  },
  {
   "cell_type": "code",
   "execution_count": 6,
   "id": "b3a9e587-7e11-43de-890e-88ebac6d0542",
   "metadata": {},
   "outputs": [
    {
     "data": {
      "text/plain": [
       "(6, 6)"
      ]
     },
     "execution_count": 6,
     "metadata": {},
     "output_type": "execute_result"
    }
   ],
   "source": [
    "emp.shape"
   ]
  },
  {
   "cell_type": "code",
   "execution_count": 7,
   "id": "2a6b1ee1-6d35-47b9-abba-687262b4e20e",
   "metadata": {},
   "outputs": [
    {
     "name": "stdout",
     "output_type": "stream",
     "text": [
      "<class 'pandas.core.frame.DataFrame'>\n",
      "RangeIndex: 6 entries, 0 to 5\n",
      "Data columns (total 6 columns):\n",
      " #   Column    Non-Null Count  Dtype \n",
      "---  ------    --------------  ----- \n",
      " 0   Name      6 non-null      object\n",
      " 1   Domain    6 non-null      object\n",
      " 2   Age       4 non-null      object\n",
      " 3   Location  4 non-null      object\n",
      " 4   Salary    6 non-null      object\n",
      " 5   Exp       5 non-null      object\n",
      "dtypes: object(6)\n",
      "memory usage: 416.0+ bytes\n"
     ]
    }
   ],
   "source": [
    "emp.info()"
   ]
  },
  {
   "cell_type": "code",
   "execution_count": 8,
   "id": "4b7626d8-cc10-44b9-8b73-554794ce5920",
   "metadata": {},
   "outputs": [
    {
     "data": {
      "text/html": [
       "<div>\n",
       "<style scoped>\n",
       "    .dataframe tbody tr th:only-of-type {\n",
       "        vertical-align: middle;\n",
       "    }\n",
       "\n",
       "    .dataframe tbody tr th {\n",
       "        vertical-align: top;\n",
       "    }\n",
       "\n",
       "    .dataframe thead th {\n",
       "        text-align: right;\n",
       "    }\n",
       "</style>\n",
       "<table border=\"1\" class=\"dataframe\">\n",
       "  <thead>\n",
       "    <tr style=\"text-align: right;\">\n",
       "      <th></th>\n",
       "      <th>Name</th>\n",
       "      <th>Domain</th>\n",
       "      <th>Age</th>\n",
       "      <th>Location</th>\n",
       "      <th>Salary</th>\n",
       "      <th>Exp</th>\n",
       "    </tr>\n",
       "  </thead>\n",
       "  <tbody>\n",
       "    <tr>\n",
       "      <th>count</th>\n",
       "      <td>6</td>\n",
       "      <td>6</td>\n",
       "      <td>4</td>\n",
       "      <td>4</td>\n",
       "      <td>6</td>\n",
       "      <td>5</td>\n",
       "    </tr>\n",
       "    <tr>\n",
       "      <th>unique</th>\n",
       "      <td>6</td>\n",
       "      <td>6</td>\n",
       "      <td>4</td>\n",
       "      <td>4</td>\n",
       "      <td>6</td>\n",
       "      <td>5</td>\n",
       "    </tr>\n",
       "    <tr>\n",
       "      <th>top</th>\n",
       "      <td>Mike</td>\n",
       "      <td>Datascience#$</td>\n",
       "      <td>34 years</td>\n",
       "      <td>Mumbai</td>\n",
       "      <td>5^00#0</td>\n",
       "      <td>2+</td>\n",
       "    </tr>\n",
       "    <tr>\n",
       "      <th>freq</th>\n",
       "      <td>1</td>\n",
       "      <td>1</td>\n",
       "      <td>1</td>\n",
       "      <td>1</td>\n",
       "      <td>1</td>\n",
       "      <td>1</td>\n",
       "    </tr>\n",
       "  </tbody>\n",
       "</table>\n",
       "</div>"
      ],
      "text/plain": [
       "        Name         Domain       Age Location  Salary Exp\n",
       "count      6              6         4        4       6   5\n",
       "unique     6              6         4        4       6   5\n",
       "top     Mike  Datascience#$  34 years   Mumbai  5^00#0  2+\n",
       "freq       1              1         1        1       1   1"
      ]
     },
     "execution_count": 8,
     "metadata": {},
     "output_type": "execute_result"
    }
   ],
   "source": [
    "emp.describe()\n"
   ]
  },
  {
   "cell_type": "code",
   "execution_count": 9,
   "id": "27da8ecf-e28c-4fd8-bc25-3a8e55edfa70",
   "metadata": {},
   "outputs": [
    {
     "data": {
      "text/plain": [
       "6"
      ]
     },
     "execution_count": 9,
     "metadata": {},
     "output_type": "execute_result"
    }
   ],
   "source": [
    "len(emp)"
   ]
  },
  {
   "cell_type": "code",
   "execution_count": 10,
   "id": "9d97c076-7d50-4a43-9469-e5a841e384aa",
   "metadata": {},
   "outputs": [
    {
     "data": {
      "text/plain": [
       "Index(['Name', 'Domain', 'Age', 'Location', 'Salary', 'Exp'], dtype='object')"
      ]
     },
     "execution_count": 10,
     "metadata": {},
     "output_type": "execute_result"
    }
   ],
   "source": [
    "emp.columns"
   ]
  },
  {
   "cell_type": "code",
   "execution_count": 11,
   "id": "6c800595-e134-43cc-bb6b-030b11448d26",
   "metadata": {},
   "outputs": [
    {
     "data": {
      "text/plain": [
       "0      Mike\n",
       "1    Teddy^\n",
       "2     Uma#r\n",
       "3      Jane\n",
       "4    Uttam*\n",
       "5       Kim\n",
       "Name: Name, dtype: object"
      ]
     },
     "execution_count": 11,
     "metadata": {},
     "output_type": "execute_result"
    }
   ],
   "source": [
    "emp['Name']"
   ]
  },
  {
   "cell_type": "code",
   "execution_count": 12,
   "id": "81defeee-1ad0-4a55-8803-59269c4729b9",
   "metadata": {},
   "outputs": [
    {
     "data": {
      "text/html": [
       "<div>\n",
       "<style scoped>\n",
       "    .dataframe tbody tr th:only-of-type {\n",
       "        vertical-align: middle;\n",
       "    }\n",
       "\n",
       "    .dataframe tbody tr th {\n",
       "        vertical-align: top;\n",
       "    }\n",
       "\n",
       "    .dataframe thead th {\n",
       "        text-align: right;\n",
       "    }\n",
       "</style>\n",
       "<table border=\"1\" class=\"dataframe\">\n",
       "  <thead>\n",
       "    <tr style=\"text-align: right;\">\n",
       "      <th></th>\n",
       "      <th>Name</th>\n",
       "      <th>Domain</th>\n",
       "    </tr>\n",
       "  </thead>\n",
       "  <tbody>\n",
       "    <tr>\n",
       "      <th>0</th>\n",
       "      <td>Mike</td>\n",
       "      <td>Datascience#$</td>\n",
       "    </tr>\n",
       "    <tr>\n",
       "      <th>1</th>\n",
       "      <td>Teddy^</td>\n",
       "      <td>Testing</td>\n",
       "    </tr>\n",
       "    <tr>\n",
       "      <th>2</th>\n",
       "      <td>Uma#r</td>\n",
       "      <td>Dataanalyst^^#</td>\n",
       "    </tr>\n",
       "    <tr>\n",
       "      <th>3</th>\n",
       "      <td>Jane</td>\n",
       "      <td>Ana^^lytics</td>\n",
       "    </tr>\n",
       "    <tr>\n",
       "      <th>4</th>\n",
       "      <td>Uttam*</td>\n",
       "      <td>Statistics</td>\n",
       "    </tr>\n",
       "    <tr>\n",
       "      <th>5</th>\n",
       "      <td>Kim</td>\n",
       "      <td>NLP</td>\n",
       "    </tr>\n",
       "  </tbody>\n",
       "</table>\n",
       "</div>"
      ],
      "text/plain": [
       "     Name          Domain\n",
       "0    Mike   Datascience#$\n",
       "1  Teddy^         Testing\n",
       "2   Uma#r  Dataanalyst^^#\n",
       "3    Jane     Ana^^lytics\n",
       "4  Uttam*      Statistics\n",
       "5     Kim             NLP"
      ]
     },
     "execution_count": 12,
     "metadata": {},
     "output_type": "execute_result"
    }
   ],
   "source": [
    "emp[['Name','Domain']]"
   ]
  },
  {
   "cell_type": "code",
   "execution_count": 13,
   "id": "b61e30a5-f654-4d21-82ad-b2f7bced2fa1",
   "metadata": {},
   "outputs": [
    {
     "data": {
      "text/html": [
       "<div>\n",
       "<style scoped>\n",
       "    .dataframe tbody tr th:only-of-type {\n",
       "        vertical-align: middle;\n",
       "    }\n",
       "\n",
       "    .dataframe tbody tr th {\n",
       "        vertical-align: top;\n",
       "    }\n",
       "\n",
       "    .dataframe thead th {\n",
       "        text-align: right;\n",
       "    }\n",
       "</style>\n",
       "<table border=\"1\" class=\"dataframe\">\n",
       "  <thead>\n",
       "    <tr style=\"text-align: right;\">\n",
       "      <th></th>\n",
       "      <th>Name</th>\n",
       "      <th>Domain</th>\n",
       "      <th>Age</th>\n",
       "    </tr>\n",
       "  </thead>\n",
       "  <tbody>\n",
       "    <tr>\n",
       "      <th>0</th>\n",
       "      <td>Mike</td>\n",
       "      <td>Datascience#$</td>\n",
       "      <td>34 years</td>\n",
       "    </tr>\n",
       "    <tr>\n",
       "      <th>1</th>\n",
       "      <td>Teddy^</td>\n",
       "      <td>Testing</td>\n",
       "      <td>45' yr</td>\n",
       "    </tr>\n",
       "    <tr>\n",
       "      <th>2</th>\n",
       "      <td>Uma#r</td>\n",
       "      <td>Dataanalyst^^#</td>\n",
       "      <td>NaN</td>\n",
       "    </tr>\n",
       "    <tr>\n",
       "      <th>3</th>\n",
       "      <td>Jane</td>\n",
       "      <td>Ana^^lytics</td>\n",
       "      <td>NaN</td>\n",
       "    </tr>\n",
       "    <tr>\n",
       "      <th>4</th>\n",
       "      <td>Uttam*</td>\n",
       "      <td>Statistics</td>\n",
       "      <td>67-yr</td>\n",
       "    </tr>\n",
       "    <tr>\n",
       "      <th>5</th>\n",
       "      <td>Kim</td>\n",
       "      <td>NLP</td>\n",
       "      <td>55yr</td>\n",
       "    </tr>\n",
       "  </tbody>\n",
       "</table>\n",
       "</div>"
      ],
      "text/plain": [
       "     Name          Domain       Age\n",
       "0    Mike   Datascience#$  34 years\n",
       "1  Teddy^         Testing    45' yr\n",
       "2   Uma#r  Dataanalyst^^#       NaN\n",
       "3    Jane     Ana^^lytics       NaN\n",
       "4  Uttam*      Statistics     67-yr\n",
       "5     Kim             NLP      55yr"
      ]
     },
     "execution_count": 13,
     "metadata": {},
     "output_type": "execute_result"
    }
   ],
   "source": [
    "emp[['Name','Domain','Age']]"
   ]
  },
  {
   "cell_type": "code",
   "execution_count": 14,
   "id": "ae453195-2ef3-4f03-966c-fcc4fbc09677",
   "metadata": {},
   "outputs": [
    {
     "data": {
      "text/html": [
       "<div>\n",
       "<style scoped>\n",
       "    .dataframe tbody tr th:only-of-type {\n",
       "        vertical-align: middle;\n",
       "    }\n",
       "\n",
       "    .dataframe tbody tr th {\n",
       "        vertical-align: top;\n",
       "    }\n",
       "\n",
       "    .dataframe thead th {\n",
       "        text-align: right;\n",
       "    }\n",
       "</style>\n",
       "<table border=\"1\" class=\"dataframe\">\n",
       "  <thead>\n",
       "    <tr style=\"text-align: right;\">\n",
       "      <th></th>\n",
       "      <th>Name</th>\n",
       "      <th>Domain</th>\n",
       "      <th>Age</th>\n",
       "      <th>Location</th>\n",
       "    </tr>\n",
       "  </thead>\n",
       "  <tbody>\n",
       "    <tr>\n",
       "      <th>0</th>\n",
       "      <td>Mike</td>\n",
       "      <td>Datascience#$</td>\n",
       "      <td>34 years</td>\n",
       "      <td>Mumbai</td>\n",
       "    </tr>\n",
       "    <tr>\n",
       "      <th>1</th>\n",
       "      <td>Teddy^</td>\n",
       "      <td>Testing</td>\n",
       "      <td>45' yr</td>\n",
       "      <td>Bangalore</td>\n",
       "    </tr>\n",
       "    <tr>\n",
       "      <th>2</th>\n",
       "      <td>Uma#r</td>\n",
       "      <td>Dataanalyst^^#</td>\n",
       "      <td>NaN</td>\n",
       "      <td>NaN</td>\n",
       "    </tr>\n",
       "    <tr>\n",
       "      <th>3</th>\n",
       "      <td>Jane</td>\n",
       "      <td>Ana^^lytics</td>\n",
       "      <td>NaN</td>\n",
       "      <td>Hyderbad</td>\n",
       "    </tr>\n",
       "    <tr>\n",
       "      <th>4</th>\n",
       "      <td>Uttam*</td>\n",
       "      <td>Statistics</td>\n",
       "      <td>67-yr</td>\n",
       "      <td>NaN</td>\n",
       "    </tr>\n",
       "    <tr>\n",
       "      <th>5</th>\n",
       "      <td>Kim</td>\n",
       "      <td>NLP</td>\n",
       "      <td>55yr</td>\n",
       "      <td>Delhi</td>\n",
       "    </tr>\n",
       "  </tbody>\n",
       "</table>\n",
       "</div>"
      ],
      "text/plain": [
       "     Name          Domain       Age   Location\n",
       "0    Mike   Datascience#$  34 years     Mumbai\n",
       "1  Teddy^         Testing    45' yr  Bangalore\n",
       "2   Uma#r  Dataanalyst^^#       NaN        NaN\n",
       "3    Jane     Ana^^lytics       NaN   Hyderbad\n",
       "4  Uttam*      Statistics     67-yr        NaN\n",
       "5     Kim             NLP      55yr      Delhi"
      ]
     },
     "execution_count": 14,
     "metadata": {},
     "output_type": "execute_result"
    }
   ],
   "source": [
    "emp[['Name','Domain','Age','Location']]"
   ]
  },
  {
   "cell_type": "code",
   "execution_count": 15,
   "id": "1e4650fd-f527-46d6-af90-6ff99e4125ac",
   "metadata": {},
   "outputs": [
    {
     "data": {
      "text/html": [
       "<div>\n",
       "<style scoped>\n",
       "    .dataframe tbody tr th:only-of-type {\n",
       "        vertical-align: middle;\n",
       "    }\n",
       "\n",
       "    .dataframe tbody tr th {\n",
       "        vertical-align: top;\n",
       "    }\n",
       "\n",
       "    .dataframe thead th {\n",
       "        text-align: right;\n",
       "    }\n",
       "</style>\n",
       "<table border=\"1\" class=\"dataframe\">\n",
       "  <thead>\n",
       "    <tr style=\"text-align: right;\">\n",
       "      <th></th>\n",
       "      <th>Name</th>\n",
       "      <th>Domain</th>\n",
       "      <th>Age</th>\n",
       "      <th>Location</th>\n",
       "      <th>Salary</th>\n",
       "    </tr>\n",
       "  </thead>\n",
       "  <tbody>\n",
       "    <tr>\n",
       "      <th>0</th>\n",
       "      <td>Mike</td>\n",
       "      <td>Datascience#$</td>\n",
       "      <td>34 years</td>\n",
       "      <td>Mumbai</td>\n",
       "      <td>5^00#0</td>\n",
       "    </tr>\n",
       "    <tr>\n",
       "      <th>1</th>\n",
       "      <td>Teddy^</td>\n",
       "      <td>Testing</td>\n",
       "      <td>45' yr</td>\n",
       "      <td>Bangalore</td>\n",
       "      <td>10%%000</td>\n",
       "    </tr>\n",
       "    <tr>\n",
       "      <th>2</th>\n",
       "      <td>Uma#r</td>\n",
       "      <td>Dataanalyst^^#</td>\n",
       "      <td>NaN</td>\n",
       "      <td>NaN</td>\n",
       "      <td>1$5%000</td>\n",
       "    </tr>\n",
       "    <tr>\n",
       "      <th>3</th>\n",
       "      <td>Jane</td>\n",
       "      <td>Ana^^lytics</td>\n",
       "      <td>NaN</td>\n",
       "      <td>Hyderbad</td>\n",
       "      <td>2000^0</td>\n",
       "    </tr>\n",
       "    <tr>\n",
       "      <th>4</th>\n",
       "      <td>Uttam*</td>\n",
       "      <td>Statistics</td>\n",
       "      <td>67-yr</td>\n",
       "      <td>NaN</td>\n",
       "      <td>30000-</td>\n",
       "    </tr>\n",
       "    <tr>\n",
       "      <th>5</th>\n",
       "      <td>Kim</td>\n",
       "      <td>NLP</td>\n",
       "      <td>55yr</td>\n",
       "      <td>Delhi</td>\n",
       "      <td>6000^$0</td>\n",
       "    </tr>\n",
       "  </tbody>\n",
       "</table>\n",
       "</div>"
      ],
      "text/plain": [
       "     Name          Domain       Age   Location   Salary\n",
       "0    Mike   Datascience#$  34 years     Mumbai   5^00#0\n",
       "1  Teddy^         Testing    45' yr  Bangalore  10%%000\n",
       "2   Uma#r  Dataanalyst^^#       NaN        NaN  1$5%000\n",
       "3    Jane     Ana^^lytics       NaN   Hyderbad   2000^0\n",
       "4  Uttam*      Statistics     67-yr        NaN   30000-\n",
       "5     Kim             NLP      55yr      Delhi  6000^$0"
      ]
     },
     "execution_count": 15,
     "metadata": {},
     "output_type": "execute_result"
    }
   ],
   "source": [
    "emp[['Name','Domain','Age','Location','Salary']]"
   ]
  },
  {
   "cell_type": "code",
   "execution_count": 16,
   "id": "da817f59-11f3-4b3f-b9db-5ce8c8512dba",
   "metadata": {},
   "outputs": [
    {
     "data": {
      "text/html": [
       "<div>\n",
       "<style scoped>\n",
       "    .dataframe tbody tr th:only-of-type {\n",
       "        vertical-align: middle;\n",
       "    }\n",
       "\n",
       "    .dataframe tbody tr th {\n",
       "        vertical-align: top;\n",
       "    }\n",
       "\n",
       "    .dataframe thead th {\n",
       "        text-align: right;\n",
       "    }\n",
       "</style>\n",
       "<table border=\"1\" class=\"dataframe\">\n",
       "  <thead>\n",
       "    <tr style=\"text-align: right;\">\n",
       "      <th></th>\n",
       "      <th>Name</th>\n",
       "      <th>Domain</th>\n",
       "      <th>Age</th>\n",
       "      <th>Location</th>\n",
       "      <th>Salary</th>\n",
       "      <th>Exp</th>\n",
       "    </tr>\n",
       "  </thead>\n",
       "  <tbody>\n",
       "    <tr>\n",
       "      <th>0</th>\n",
       "      <td>Mike</td>\n",
       "      <td>Datascience#$</td>\n",
       "      <td>34 years</td>\n",
       "      <td>Mumbai</td>\n",
       "      <td>5^00#0</td>\n",
       "      <td>2+</td>\n",
       "    </tr>\n",
       "    <tr>\n",
       "      <th>1</th>\n",
       "      <td>Teddy^</td>\n",
       "      <td>Testing</td>\n",
       "      <td>45' yr</td>\n",
       "      <td>Bangalore</td>\n",
       "      <td>10%%000</td>\n",
       "      <td>&lt;3</td>\n",
       "    </tr>\n",
       "    <tr>\n",
       "      <th>2</th>\n",
       "      <td>Uma#r</td>\n",
       "      <td>Dataanalyst^^#</td>\n",
       "      <td>NaN</td>\n",
       "      <td>NaN</td>\n",
       "      <td>1$5%000</td>\n",
       "      <td>4&gt; yrs</td>\n",
       "    </tr>\n",
       "    <tr>\n",
       "      <th>3</th>\n",
       "      <td>Jane</td>\n",
       "      <td>Ana^^lytics</td>\n",
       "      <td>NaN</td>\n",
       "      <td>Hyderbad</td>\n",
       "      <td>2000^0</td>\n",
       "      <td>NaN</td>\n",
       "    </tr>\n",
       "    <tr>\n",
       "      <th>4</th>\n",
       "      <td>Uttam*</td>\n",
       "      <td>Statistics</td>\n",
       "      <td>67-yr</td>\n",
       "      <td>NaN</td>\n",
       "      <td>30000-</td>\n",
       "      <td>5+ year</td>\n",
       "    </tr>\n",
       "    <tr>\n",
       "      <th>5</th>\n",
       "      <td>Kim</td>\n",
       "      <td>NLP</td>\n",
       "      <td>55yr</td>\n",
       "      <td>Delhi</td>\n",
       "      <td>6000^$0</td>\n",
       "      <td>10+</td>\n",
       "    </tr>\n",
       "  </tbody>\n",
       "</table>\n",
       "</div>"
      ],
      "text/plain": [
       "     Name          Domain       Age   Location   Salary      Exp\n",
       "0    Mike   Datascience#$  34 years     Mumbai   5^00#0       2+\n",
       "1  Teddy^         Testing    45' yr  Bangalore  10%%000       <3\n",
       "2   Uma#r  Dataanalyst^^#       NaN        NaN  1$5%000   4> yrs\n",
       "3    Jane     Ana^^lytics       NaN   Hyderbad   2000^0      NaN\n",
       "4  Uttam*      Statistics     67-yr        NaN   30000-  5+ year\n",
       "5     Kim             NLP      55yr      Delhi  6000^$0      10+"
      ]
     },
     "execution_count": 16,
     "metadata": {},
     "output_type": "execute_result"
    }
   ],
   "source": [
    "emp[['Name','Domain','Age','Location','Salary','Exp']]"
   ]
  },
  {
   "cell_type": "code",
   "execution_count": 17,
   "id": "6c989858-ca26-4b74-889c-80307ae46061",
   "metadata": {},
   "outputs": [
    {
     "data": {
      "text/plain": [
       "0      Mike\n",
       "1    Teddy^\n",
       "2     Uma#r\n",
       "3      Jane\n",
       "4    Uttam*\n",
       "5       Kim\n",
       "Name: Name, dtype: object"
      ]
     },
     "execution_count": 17,
     "metadata": {},
     "output_type": "execute_result"
    }
   ],
   "source": [
    "emp['Name']"
   ]
  },
  {
   "cell_type": "code",
   "execution_count": 18,
   "id": "bc7c8b4c-5585-4c13-92a7-783b60f25587",
   "metadata": {},
   "outputs": [
    {
     "data": {
      "text/plain": [
       "0     Mike\n",
       "1    Teddy\n",
       "2     Umar\n",
       "3     Jane\n",
       "4    Uttam\n",
       "5      Kim\n",
       "Name: Name, dtype: object"
      ]
     },
     "execution_count": 18,
     "metadata": {},
     "output_type": "execute_result"
    }
   ],
   "source": [
    "emp['Name'] = emp['Name'].str.replace(r'\\W','')\n",
    "emp['Name'] = emp['Name'].str.replace(r'\\W','',regex=True)\n",
    "emp['Name']                                    "
   ]
  },
  {
   "cell_type": "code",
   "execution_count": 19,
   "id": "16f2499b-c4ac-4eac-9a8e-330a67aab65d",
   "metadata": {},
   "outputs": [
    {
     "data": {
      "text/plain": [
       "0     Mike\n",
       "1    Teddy\n",
       "2     Umar\n",
       "3     Jane\n",
       "4    Uttam\n",
       "5      Kim\n",
       "Name: Name, dtype: object"
      ]
     },
     "execution_count": 19,
     "metadata": {},
     "output_type": "execute_result"
    }
   ],
   "source": [
    "emp['Name']"
   ]
  },
  {
   "cell_type": "code",
   "execution_count": 20,
   "id": "1536a553-6a80-46ee-ad94-9283c4a6e357",
   "metadata": {},
   "outputs": [],
   "source": [
    "emp['Domain'] = emp['Domain'].str.replace(r'\\W','',regex=True)\n"
   ]
  },
  {
   "cell_type": "code",
   "execution_count": 21,
   "id": "89bda365-6b84-49df-8c79-e83173a651f7",
   "metadata": {},
   "outputs": [
    {
     "data": {
      "text/plain": [
       "0    Datascience\n",
       "1        Testing\n",
       "2    Dataanalyst\n",
       "3      Analytics\n",
       "4     Statistics\n",
       "5            NLP\n",
       "Name: Domain, dtype: object"
      ]
     },
     "execution_count": 21,
     "metadata": {},
     "output_type": "execute_result"
    }
   ],
   "source": [
    "emp['Domain']"
   ]
  },
  {
   "cell_type": "code",
   "execution_count": 22,
   "id": "ef0570da-1f42-4dbc-a4cf-c4901dea102f",
   "metadata": {},
   "outputs": [
    {
     "data": {
      "text/plain": [
       "0     34\n",
       "1     45\n",
       "2    NaN\n",
       "3    NaN\n",
       "4     67\n",
       "5     55\n",
       "Name: Age, dtype: object"
      ]
     },
     "execution_count": 22,
     "metadata": {},
     "output_type": "execute_result"
    }
   ],
   "source": [
    "emp['Age'] = emp['Age'].str.extract('(\\d+)')\n",
    "emp['Age']"
   ]
  },
  {
   "cell_type": "code",
   "execution_count": 23,
   "id": "b042cb7c-c90a-4f29-92a9-b98c303c66aa",
   "metadata": {},
   "outputs": [],
   "source": [
    "emp['Location'] = emp['Location'].str.replace(r'\\W','' ,regex=True)"
   ]
  },
  {
   "cell_type": "code",
   "execution_count": 24,
   "id": "43efd715-01d6-4ad2-9185-9f4b0b0ae9cd",
   "metadata": {},
   "outputs": [
    {
     "data": {
      "text/plain": [
       "0       Mumbai\n",
       "1    Bangalore\n",
       "2          NaN\n",
       "3     Hyderbad\n",
       "4          NaN\n",
       "5        Delhi\n",
       "Name: Location, dtype: object"
      ]
     },
     "execution_count": 24,
     "metadata": {},
     "output_type": "execute_result"
    }
   ],
   "source": [
    "emp['Location']"
   ]
  },
  {
   "cell_type": "code",
   "execution_count": 25,
   "id": "ea1f92fe-1936-45b7-bbb3-f50d1474f2d6",
   "metadata": {},
   "outputs": [
    {
     "data": {
      "text/plain": [
       "0     5^00#0\n",
       "1    10%%000\n",
       "2    1$5%000\n",
       "3     2000^0\n",
       "4     30000-\n",
       "5    6000^$0\n",
       "Name: Salary, dtype: object"
      ]
     },
     "execution_count": 25,
     "metadata": {},
     "output_type": "execute_result"
    }
   ],
   "source": [
    "emp['Salary']"
   ]
  },
  {
   "cell_type": "code",
   "execution_count": 26,
   "id": "769dd88e-e3dd-4970-b3d9-76a0e3c9322e",
   "metadata": {},
   "outputs": [],
   "source": [
    "emp['Salary'] = emp['Salary'].str.replace(r'\\W','',regex=True)"
   ]
  },
  {
   "cell_type": "code",
   "execution_count": 27,
   "id": "45ba442b-c957-4d90-8cdb-62a4ecee5fd8",
   "metadata": {},
   "outputs": [
    {
     "data": {
      "text/plain": [
       "0     5000\n",
       "1    10000\n",
       "2    15000\n",
       "3    20000\n",
       "4    30000\n",
       "5    60000\n",
       "Name: Salary, dtype: object"
      ]
     },
     "execution_count": 27,
     "metadata": {},
     "output_type": "execute_result"
    }
   ],
   "source": [
    "emp['Salary']"
   ]
  },
  {
   "cell_type": "code",
   "execution_count": 28,
   "id": "4feb39e3-4efd-4c9f-8e50-9dc2532cd9e7",
   "metadata": {},
   "outputs": [
    {
     "data": {
      "text/plain": [
       "0         2+\n",
       "1         <3\n",
       "2     4> yrs\n",
       "3        NaN\n",
       "4    5+ year\n",
       "5        10+\n",
       "Name: Exp, dtype: object"
      ]
     },
     "execution_count": 28,
     "metadata": {},
     "output_type": "execute_result"
    }
   ],
   "source": [
    "emp['Exp']"
   ]
  },
  {
   "cell_type": "code",
   "execution_count": 29,
   "id": "622ffdc4-fbd4-4867-b54c-06a14a31a5eb",
   "metadata": {},
   "outputs": [],
   "source": [
    "emp['Exp'] = emp['Exp'].str.extract('(\\d+)')"
   ]
  },
  {
   "cell_type": "code",
   "execution_count": 30,
   "id": "d818514a-cf97-45e4-8545-17497b4ed740",
   "metadata": {},
   "outputs": [
    {
     "data": {
      "text/plain": [
       "0      2\n",
       "1      3\n",
       "2      4\n",
       "3    NaN\n",
       "4      5\n",
       "5     10\n",
       "Name: Exp, dtype: object"
      ]
     },
     "execution_count": 30,
     "metadata": {},
     "output_type": "execute_result"
    }
   ],
   "source": [
    "emp['Exp']"
   ]
  },
  {
   "cell_type": "code",
   "execution_count": 31,
   "id": "fc78f9ec-97f1-4a44-8495-3abd33409eb3",
   "metadata": {},
   "outputs": [
    {
     "data": {
      "text/html": [
       "<div>\n",
       "<style scoped>\n",
       "    .dataframe tbody tr th:only-of-type {\n",
       "        vertical-align: middle;\n",
       "    }\n",
       "\n",
       "    .dataframe tbody tr th {\n",
       "        vertical-align: top;\n",
       "    }\n",
       "\n",
       "    .dataframe thead th {\n",
       "        text-align: right;\n",
       "    }\n",
       "</style>\n",
       "<table border=\"1\" class=\"dataframe\">\n",
       "  <thead>\n",
       "    <tr style=\"text-align: right;\">\n",
       "      <th></th>\n",
       "      <th>Name</th>\n",
       "      <th>Domain</th>\n",
       "      <th>Age</th>\n",
       "      <th>Location</th>\n",
       "      <th>Salary</th>\n",
       "      <th>Exp</th>\n",
       "    </tr>\n",
       "  </thead>\n",
       "  <tbody>\n",
       "    <tr>\n",
       "      <th>0</th>\n",
       "      <td>Mike</td>\n",
       "      <td>Datascience</td>\n",
       "      <td>34</td>\n",
       "      <td>Mumbai</td>\n",
       "      <td>5000</td>\n",
       "      <td>2</td>\n",
       "    </tr>\n",
       "    <tr>\n",
       "      <th>1</th>\n",
       "      <td>Teddy</td>\n",
       "      <td>Testing</td>\n",
       "      <td>45</td>\n",
       "      <td>Bangalore</td>\n",
       "      <td>10000</td>\n",
       "      <td>3</td>\n",
       "    </tr>\n",
       "    <tr>\n",
       "      <th>2</th>\n",
       "      <td>Umar</td>\n",
       "      <td>Dataanalyst</td>\n",
       "      <td>NaN</td>\n",
       "      <td>NaN</td>\n",
       "      <td>15000</td>\n",
       "      <td>4</td>\n",
       "    </tr>\n",
       "    <tr>\n",
       "      <th>3</th>\n",
       "      <td>Jane</td>\n",
       "      <td>Analytics</td>\n",
       "      <td>NaN</td>\n",
       "      <td>Hyderbad</td>\n",
       "      <td>20000</td>\n",
       "      <td>NaN</td>\n",
       "    </tr>\n",
       "    <tr>\n",
       "      <th>4</th>\n",
       "      <td>Uttam</td>\n",
       "      <td>Statistics</td>\n",
       "      <td>67</td>\n",
       "      <td>NaN</td>\n",
       "      <td>30000</td>\n",
       "      <td>5</td>\n",
       "    </tr>\n",
       "    <tr>\n",
       "      <th>5</th>\n",
       "      <td>Kim</td>\n",
       "      <td>NLP</td>\n",
       "      <td>55</td>\n",
       "      <td>Delhi</td>\n",
       "      <td>60000</td>\n",
       "      <td>10</td>\n",
       "    </tr>\n",
       "  </tbody>\n",
       "</table>\n",
       "</div>"
      ],
      "text/plain": [
       "    Name       Domain  Age   Location Salary  Exp\n",
       "0   Mike  Datascience   34     Mumbai   5000    2\n",
       "1  Teddy      Testing   45  Bangalore  10000    3\n",
       "2   Umar  Dataanalyst  NaN        NaN  15000    4\n",
       "3   Jane    Analytics  NaN   Hyderbad  20000  NaN\n",
       "4  Uttam   Statistics   67        NaN  30000    5\n",
       "5    Kim          NLP   55      Delhi  60000   10"
      ]
     },
     "execution_count": 31,
     "metadata": {},
     "output_type": "execute_result"
    }
   ],
   "source": [
    "emp"
   ]
  },
  {
   "cell_type": "markdown",
   "id": "626e607c-4ce3-4f18-a6e1-0f26cbb79f94",
   "metadata": {},
   "source": [
    "missing values "
   ]
  },
  {
   "cell_type": "code",
   "execution_count": 33,
   "id": "b8203fc2-f49f-404e-b47a-58f69017f1d8",
   "metadata": {},
   "outputs": [],
   "source": [
    "clean_data = emp.copy()"
   ]
  },
  {
   "cell_type": "code",
   "execution_count": 34,
   "id": "ee1192b8-56f4-42b9-8a17-964190ba1e66",
   "metadata": {},
   "outputs": [
    {
     "data": {
      "text/html": [
       "<div>\n",
       "<style scoped>\n",
       "    .dataframe tbody tr th:only-of-type {\n",
       "        vertical-align: middle;\n",
       "    }\n",
       "\n",
       "    .dataframe tbody tr th {\n",
       "        vertical-align: top;\n",
       "    }\n",
       "\n",
       "    .dataframe thead th {\n",
       "        text-align: right;\n",
       "    }\n",
       "</style>\n",
       "<table border=\"1\" class=\"dataframe\">\n",
       "  <thead>\n",
       "    <tr style=\"text-align: right;\">\n",
       "      <th></th>\n",
       "      <th>Name</th>\n",
       "      <th>Domain</th>\n",
       "      <th>Age</th>\n",
       "      <th>Location</th>\n",
       "      <th>Salary</th>\n",
       "      <th>Exp</th>\n",
       "    </tr>\n",
       "  </thead>\n",
       "  <tbody>\n",
       "    <tr>\n",
       "      <th>0</th>\n",
       "      <td>Mike</td>\n",
       "      <td>Datascience</td>\n",
       "      <td>34</td>\n",
       "      <td>Mumbai</td>\n",
       "      <td>5000</td>\n",
       "      <td>2</td>\n",
       "    </tr>\n",
       "    <tr>\n",
       "      <th>1</th>\n",
       "      <td>Teddy</td>\n",
       "      <td>Testing</td>\n",
       "      <td>45</td>\n",
       "      <td>Bangalore</td>\n",
       "      <td>10000</td>\n",
       "      <td>3</td>\n",
       "    </tr>\n",
       "    <tr>\n",
       "      <th>2</th>\n",
       "      <td>Umar</td>\n",
       "      <td>Dataanalyst</td>\n",
       "      <td>NaN</td>\n",
       "      <td>NaN</td>\n",
       "      <td>15000</td>\n",
       "      <td>4</td>\n",
       "    </tr>\n",
       "    <tr>\n",
       "      <th>3</th>\n",
       "      <td>Jane</td>\n",
       "      <td>Analytics</td>\n",
       "      <td>NaN</td>\n",
       "      <td>Hyderbad</td>\n",
       "      <td>20000</td>\n",
       "      <td>NaN</td>\n",
       "    </tr>\n",
       "    <tr>\n",
       "      <th>4</th>\n",
       "      <td>Uttam</td>\n",
       "      <td>Statistics</td>\n",
       "      <td>67</td>\n",
       "      <td>NaN</td>\n",
       "      <td>30000</td>\n",
       "      <td>5</td>\n",
       "    </tr>\n",
       "    <tr>\n",
       "      <th>5</th>\n",
       "      <td>Kim</td>\n",
       "      <td>NLP</td>\n",
       "      <td>55</td>\n",
       "      <td>Delhi</td>\n",
       "      <td>60000</td>\n",
       "      <td>10</td>\n",
       "    </tr>\n",
       "  </tbody>\n",
       "</table>\n",
       "</div>"
      ],
      "text/plain": [
       "    Name       Domain  Age   Location Salary  Exp\n",
       "0   Mike  Datascience   34     Mumbai   5000    2\n",
       "1  Teddy      Testing   45  Bangalore  10000    3\n",
       "2   Umar  Dataanalyst  NaN        NaN  15000    4\n",
       "3   Jane    Analytics  NaN   Hyderbad  20000  NaN\n",
       "4  Uttam   Statistics   67        NaN  30000    5\n",
       "5    Kim          NLP   55      Delhi  60000   10"
      ]
     },
     "execution_count": 34,
     "metadata": {},
     "output_type": "execute_result"
    }
   ],
   "source": [
    "clean_data"
   ]
  },
  {
   "cell_type": "code",
   "execution_count": 35,
   "id": "259d0fdb-869d-4970-8ac6-0da3d3fc4769",
   "metadata": {},
   "outputs": [
    {
     "name": "stdout",
     "output_type": "stream",
     "text": [
      "<class 'pandas.core.frame.DataFrame'>\n",
      "RangeIndex: 6 entries, 0 to 5\n",
      "Data columns (total 6 columns):\n",
      " #   Column    Non-Null Count  Dtype \n",
      "---  ------    --------------  ----- \n",
      " 0   Name      6 non-null      object\n",
      " 1   Domain    6 non-null      object\n",
      " 2   Age       4 non-null      object\n",
      " 3   Location  4 non-null      object\n",
      " 4   Salary    6 non-null      object\n",
      " 5   Exp       5 non-null      object\n",
      "dtypes: object(6)\n",
      "memory usage: 416.0+ bytes\n"
     ]
    }
   ],
   "source": [
    "clean_data.info()"
   ]
  },
  {
   "cell_type": "code",
   "execution_count": 36,
   "id": "8e621d9d-9549-4222-afd9-ad579f91ced3",
   "metadata": {},
   "outputs": [],
   "source": [
    "import numpy as np"
   ]
  },
  {
   "cell_type": "code",
   "execution_count": 38,
   "id": "90a941c8-f095-4053-9a98-31601aa2c55d",
   "metadata": {},
   "outputs": [
    {
     "data": {
      "text/html": [
       "<div>\n",
       "<style scoped>\n",
       "    .dataframe tbody tr th:only-of-type {\n",
       "        vertical-align: middle;\n",
       "    }\n",
       "\n",
       "    .dataframe tbody tr th {\n",
       "        vertical-align: top;\n",
       "    }\n",
       "\n",
       "    .dataframe thead th {\n",
       "        text-align: right;\n",
       "    }\n",
       "</style>\n",
       "<table border=\"1\" class=\"dataframe\">\n",
       "  <thead>\n",
       "    <tr style=\"text-align: right;\">\n",
       "      <th></th>\n",
       "      <th>Name</th>\n",
       "      <th>Domain</th>\n",
       "      <th>Age</th>\n",
       "      <th>Location</th>\n",
       "      <th>Salary</th>\n",
       "      <th>Exp</th>\n",
       "    </tr>\n",
       "  </thead>\n",
       "  <tbody>\n",
       "    <tr>\n",
       "      <th>0</th>\n",
       "      <td>Mike</td>\n",
       "      <td>Datascience</td>\n",
       "      <td>34</td>\n",
       "      <td>Mumbai</td>\n",
       "      <td>5000</td>\n",
       "      <td>2</td>\n",
       "    </tr>\n",
       "    <tr>\n",
       "      <th>1</th>\n",
       "      <td>Teddy</td>\n",
       "      <td>Testing</td>\n",
       "      <td>45</td>\n",
       "      <td>Bangalore</td>\n",
       "      <td>10000</td>\n",
       "      <td>3</td>\n",
       "    </tr>\n",
       "    <tr>\n",
       "      <th>2</th>\n",
       "      <td>Umar</td>\n",
       "      <td>Dataanalyst</td>\n",
       "      <td>NaN</td>\n",
       "      <td>NaN</td>\n",
       "      <td>15000</td>\n",
       "      <td>4</td>\n",
       "    </tr>\n",
       "    <tr>\n",
       "      <th>3</th>\n",
       "      <td>Jane</td>\n",
       "      <td>Analytics</td>\n",
       "      <td>NaN</td>\n",
       "      <td>Hyderbad</td>\n",
       "      <td>20000</td>\n",
       "      <td>NaN</td>\n",
       "    </tr>\n",
       "    <tr>\n",
       "      <th>4</th>\n",
       "      <td>Uttam</td>\n",
       "      <td>Statistics</td>\n",
       "      <td>67</td>\n",
       "      <td>NaN</td>\n",
       "      <td>30000</td>\n",
       "      <td>5</td>\n",
       "    </tr>\n",
       "    <tr>\n",
       "      <th>5</th>\n",
       "      <td>Kim</td>\n",
       "      <td>NLP</td>\n",
       "      <td>55</td>\n",
       "      <td>Delhi</td>\n",
       "      <td>60000</td>\n",
       "      <td>10</td>\n",
       "    </tr>\n",
       "  </tbody>\n",
       "</table>\n",
       "</div>"
      ],
      "text/plain": [
       "    Name       Domain  Age   Location Salary  Exp\n",
       "0   Mike  Datascience   34     Mumbai   5000    2\n",
       "1  Teddy      Testing   45  Bangalore  10000    3\n",
       "2   Umar  Dataanalyst  NaN        NaN  15000    4\n",
       "3   Jane    Analytics  NaN   Hyderbad  20000  NaN\n",
       "4  Uttam   Statistics   67        NaN  30000    5\n",
       "5    Kim          NLP   55      Delhi  60000   10"
      ]
     },
     "execution_count": 38,
     "metadata": {},
     "output_type": "execute_result"
    }
   ],
   "source": [
    "clean_data"
   ]
  },
  {
   "cell_type": "code",
   "execution_count": 40,
   "id": "9c8c3e69-f264-4386-b0bb-1d76762d5fdd",
   "metadata": {},
   "outputs": [
    {
     "data": {
      "text/html": [
       "<div>\n",
       "<style scoped>\n",
       "    .dataframe tbody tr th:only-of-type {\n",
       "        vertical-align: middle;\n",
       "    }\n",
       "\n",
       "    .dataframe tbody tr th {\n",
       "        vertical-align: top;\n",
       "    }\n",
       "\n",
       "    .dataframe thead th {\n",
       "        text-align: right;\n",
       "    }\n",
       "</style>\n",
       "<table border=\"1\" class=\"dataframe\">\n",
       "  <thead>\n",
       "    <tr style=\"text-align: right;\">\n",
       "      <th></th>\n",
       "      <th>Name</th>\n",
       "      <th>Domain</th>\n",
       "      <th>Age</th>\n",
       "      <th>Location</th>\n",
       "      <th>Salary</th>\n",
       "      <th>Exp</th>\n",
       "    </tr>\n",
       "  </thead>\n",
       "  <tbody>\n",
       "    <tr>\n",
       "      <th>0</th>\n",
       "      <td>Mike</td>\n",
       "      <td>Datascience</td>\n",
       "      <td>34</td>\n",
       "      <td>Mumbai</td>\n",
       "      <td>5000</td>\n",
       "      <td>2</td>\n",
       "    </tr>\n",
       "    <tr>\n",
       "      <th>1</th>\n",
       "      <td>Teddy</td>\n",
       "      <td>Testing</td>\n",
       "      <td>45</td>\n",
       "      <td>Bangalore</td>\n",
       "      <td>10000</td>\n",
       "      <td>3</td>\n",
       "    </tr>\n",
       "  </tbody>\n",
       "</table>\n",
       "</div>"
      ],
      "text/plain": [
       "    Name       Domain Age   Location Salary Exp\n",
       "0   Mike  Datascience  34     Mumbai   5000   2\n",
       "1  Teddy      Testing  45  Bangalore  10000   3"
      ]
     },
     "execution_count": 40,
     "metadata": {},
     "output_type": "execute_result"
    }
   ],
   "source": [
    "clean_data.head(2)"
   ]
  },
  {
   "cell_type": "code",
   "execution_count": 41,
   "id": "49424734-7661-4ab7-a296-4dbc7d80e339",
   "metadata": {},
   "outputs": [
    {
     "data": {
      "text/plain": [
       "0     34\n",
       "1     45\n",
       "2    NaN\n",
       "3    NaN\n",
       "4     67\n",
       "5     55\n",
       "Name: Age, dtype: object"
      ]
     },
     "execution_count": 41,
     "metadata": {},
     "output_type": "execute_result"
    }
   ],
   "source": [
    "clean_data['Age']"
   ]
  },
  {
   "cell_type": "code",
   "execution_count": 44,
   "id": "7052e9cf-1a31-415d-8218-2b30777d908a",
   "metadata": {},
   "outputs": [],
   "source": [
    "clean_data['Age'] = clean_data['Age'].fillna(np.mean(pd.to_numeric(clean_data['Age'])))"
   ]
  },
  {
   "cell_type": "code",
   "execution_count": 45,
   "id": "1e751a9e-0b15-4e9d-b374-3c06f941882a",
   "metadata": {},
   "outputs": [
    {
     "data": {
      "text/plain": [
       "0       34\n",
       "1       45\n",
       "2    50.25\n",
       "3    50.25\n",
       "4       67\n",
       "5       55\n",
       "Name: Age, dtype: object"
      ]
     },
     "execution_count": 45,
     "metadata": {},
     "output_type": "execute_result"
    }
   ],
   "source": [
    "clean_data['Age'] = clean_data['Age'].fillna(np.mean(pd.to_numeric(clean_data['Age'])))\n",
    "clean_data['Age']"
   ]
  },
  {
   "cell_type": "code",
   "execution_count": 46,
   "id": "55cf0a1e-8e51-461c-b816-007f2ba08c3c",
   "metadata": {},
   "outputs": [
    {
     "data": {
      "text/html": [
       "<div>\n",
       "<style scoped>\n",
       "    .dataframe tbody tr th:only-of-type {\n",
       "        vertical-align: middle;\n",
       "    }\n",
       "\n",
       "    .dataframe tbody tr th {\n",
       "        vertical-align: top;\n",
       "    }\n",
       "\n",
       "    .dataframe thead th {\n",
       "        text-align: right;\n",
       "    }\n",
       "</style>\n",
       "<table border=\"1\" class=\"dataframe\">\n",
       "  <thead>\n",
       "    <tr style=\"text-align: right;\">\n",
       "      <th></th>\n",
       "      <th>Name</th>\n",
       "      <th>Domain</th>\n",
       "      <th>Age</th>\n",
       "      <th>Location</th>\n",
       "      <th>Salary</th>\n",
       "      <th>Exp</th>\n",
       "    </tr>\n",
       "  </thead>\n",
       "  <tbody>\n",
       "    <tr>\n",
       "      <th>0</th>\n",
       "      <td>Mike</td>\n",
       "      <td>Datascience</td>\n",
       "      <td>34</td>\n",
       "      <td>Mumbai</td>\n",
       "      <td>5000</td>\n",
       "      <td>2</td>\n",
       "    </tr>\n",
       "    <tr>\n",
       "      <th>1</th>\n",
       "      <td>Teddy</td>\n",
       "      <td>Testing</td>\n",
       "      <td>45</td>\n",
       "      <td>Bangalore</td>\n",
       "      <td>10000</td>\n",
       "      <td>3</td>\n",
       "    </tr>\n",
       "    <tr>\n",
       "      <th>2</th>\n",
       "      <td>Umar</td>\n",
       "      <td>Dataanalyst</td>\n",
       "      <td>NaN</td>\n",
       "      <td>NaN</td>\n",
       "      <td>15000</td>\n",
       "      <td>4</td>\n",
       "    </tr>\n",
       "    <tr>\n",
       "      <th>3</th>\n",
       "      <td>Jane</td>\n",
       "      <td>Analytics</td>\n",
       "      <td>NaN</td>\n",
       "      <td>Hyderbad</td>\n",
       "      <td>20000</td>\n",
       "      <td>NaN</td>\n",
       "    </tr>\n",
       "    <tr>\n",
       "      <th>4</th>\n",
       "      <td>Uttam</td>\n",
       "      <td>Statistics</td>\n",
       "      <td>67</td>\n",
       "      <td>NaN</td>\n",
       "      <td>30000</td>\n",
       "      <td>5</td>\n",
       "    </tr>\n",
       "    <tr>\n",
       "      <th>5</th>\n",
       "      <td>Kim</td>\n",
       "      <td>NLP</td>\n",
       "      <td>55</td>\n",
       "      <td>Delhi</td>\n",
       "      <td>60000</td>\n",
       "      <td>10</td>\n",
       "    </tr>\n",
       "  </tbody>\n",
       "</table>\n",
       "</div>"
      ],
      "text/plain": [
       "    Name       Domain  Age   Location Salary  Exp\n",
       "0   Mike  Datascience   34     Mumbai   5000    2\n",
       "1  Teddy      Testing   45  Bangalore  10000    3\n",
       "2   Umar  Dataanalyst  NaN        NaN  15000    4\n",
       "3   Jane    Analytics  NaN   Hyderbad  20000  NaN\n",
       "4  Uttam   Statistics   67        NaN  30000    5\n",
       "5    Kim          NLP   55      Delhi  60000   10"
      ]
     },
     "execution_count": 46,
     "metadata": {},
     "output_type": "execute_result"
    }
   ],
   "source": [
    "emp"
   ]
  },
  {
   "cell_type": "code",
   "execution_count": 47,
   "id": "f3915921-56e3-4b75-adf2-f33490b79055",
   "metadata": {},
   "outputs": [
    {
     "data": {
      "text/html": [
       "<div>\n",
       "<style scoped>\n",
       "    .dataframe tbody tr th:only-of-type {\n",
       "        vertical-align: middle;\n",
       "    }\n",
       "\n",
       "    .dataframe tbody tr th {\n",
       "        vertical-align: top;\n",
       "    }\n",
       "\n",
       "    .dataframe thead th {\n",
       "        text-align: right;\n",
       "    }\n",
       "</style>\n",
       "<table border=\"1\" class=\"dataframe\">\n",
       "  <thead>\n",
       "    <tr style=\"text-align: right;\">\n",
       "      <th></th>\n",
       "      <th>Name</th>\n",
       "      <th>Domain</th>\n",
       "      <th>Age</th>\n",
       "      <th>Location</th>\n",
       "      <th>Salary</th>\n",
       "      <th>Exp</th>\n",
       "    </tr>\n",
       "  </thead>\n",
       "  <tbody>\n",
       "    <tr>\n",
       "      <th>0</th>\n",
       "      <td>Mike</td>\n",
       "      <td>Datascience</td>\n",
       "      <td>34</td>\n",
       "      <td>Mumbai</td>\n",
       "      <td>5000</td>\n",
       "      <td>2</td>\n",
       "    </tr>\n",
       "    <tr>\n",
       "      <th>1</th>\n",
       "      <td>Teddy</td>\n",
       "      <td>Testing</td>\n",
       "      <td>45</td>\n",
       "      <td>Bangalore</td>\n",
       "      <td>10000</td>\n",
       "      <td>3</td>\n",
       "    </tr>\n",
       "    <tr>\n",
       "      <th>2</th>\n",
       "      <td>Umar</td>\n",
       "      <td>Dataanalyst</td>\n",
       "      <td>50.25</td>\n",
       "      <td>NaN</td>\n",
       "      <td>15000</td>\n",
       "      <td>4</td>\n",
       "    </tr>\n",
       "    <tr>\n",
       "      <th>3</th>\n",
       "      <td>Jane</td>\n",
       "      <td>Analytics</td>\n",
       "      <td>50.25</td>\n",
       "      <td>Hyderbad</td>\n",
       "      <td>20000</td>\n",
       "      <td>NaN</td>\n",
       "    </tr>\n",
       "    <tr>\n",
       "      <th>4</th>\n",
       "      <td>Uttam</td>\n",
       "      <td>Statistics</td>\n",
       "      <td>67</td>\n",
       "      <td>NaN</td>\n",
       "      <td>30000</td>\n",
       "      <td>5</td>\n",
       "    </tr>\n",
       "    <tr>\n",
       "      <th>5</th>\n",
       "      <td>Kim</td>\n",
       "      <td>NLP</td>\n",
       "      <td>55</td>\n",
       "      <td>Delhi</td>\n",
       "      <td>60000</td>\n",
       "      <td>10</td>\n",
       "    </tr>\n",
       "  </tbody>\n",
       "</table>\n",
       "</div>"
      ],
      "text/plain": [
       "    Name       Domain    Age   Location Salary  Exp\n",
       "0   Mike  Datascience     34     Mumbai   5000    2\n",
       "1  Teddy      Testing     45  Bangalore  10000    3\n",
       "2   Umar  Dataanalyst  50.25        NaN  15000    4\n",
       "3   Jane    Analytics  50.25   Hyderbad  20000  NaN\n",
       "4  Uttam   Statistics     67        NaN  30000    5\n",
       "5    Kim          NLP     55      Delhi  60000   10"
      ]
     },
     "execution_count": 47,
     "metadata": {},
     "output_type": "execute_result"
    }
   ],
   "source": [
    "clean_data"
   ]
  },
  {
   "cell_type": "code",
   "execution_count": 48,
   "id": "8c359f79-e6ff-4e02-a677-b057c0d40b25",
   "metadata": {},
   "outputs": [],
   "source": [
    "clean_data['Exp'] = clean_data['Exp'].fillna(np.mean(pd.to_numeric(clean_data['Exp']))) "
   ]
  },
  {
   "cell_type": "code",
   "execution_count": 49,
   "id": "410ae148-75a7-4fea-984e-550f7ae4d8f0",
   "metadata": {},
   "outputs": [
    {
     "data": {
      "text/plain": [
       "0      2\n",
       "1      3\n",
       "2      4\n",
       "3    4.8\n",
       "4      5\n",
       "5     10\n",
       "Name: Exp, dtype: object"
      ]
     },
     "execution_count": 49,
     "metadata": {},
     "output_type": "execute_result"
    }
   ],
   "source": [
    "clean_data['Exp']"
   ]
  },
  {
   "cell_type": "code",
   "execution_count": 50,
   "id": "6ab9d0e1-c3c8-4986-9dfa-30ea96003fba",
   "metadata": {},
   "outputs": [
    {
     "data": {
      "text/html": [
       "<div>\n",
       "<style scoped>\n",
       "    .dataframe tbody tr th:only-of-type {\n",
       "        vertical-align: middle;\n",
       "    }\n",
       "\n",
       "    .dataframe tbody tr th {\n",
       "        vertical-align: top;\n",
       "    }\n",
       "\n",
       "    .dataframe thead th {\n",
       "        text-align: right;\n",
       "    }\n",
       "</style>\n",
       "<table border=\"1\" class=\"dataframe\">\n",
       "  <thead>\n",
       "    <tr style=\"text-align: right;\">\n",
       "      <th></th>\n",
       "      <th>Name</th>\n",
       "      <th>Domain</th>\n",
       "      <th>Age</th>\n",
       "      <th>Location</th>\n",
       "      <th>Salary</th>\n",
       "      <th>Exp</th>\n",
       "    </tr>\n",
       "  </thead>\n",
       "  <tbody>\n",
       "    <tr>\n",
       "      <th>0</th>\n",
       "      <td>Mike</td>\n",
       "      <td>Datascience</td>\n",
       "      <td>34</td>\n",
       "      <td>Mumbai</td>\n",
       "      <td>5000</td>\n",
       "      <td>2</td>\n",
       "    </tr>\n",
       "    <tr>\n",
       "      <th>1</th>\n",
       "      <td>Teddy</td>\n",
       "      <td>Testing</td>\n",
       "      <td>45</td>\n",
       "      <td>Bangalore</td>\n",
       "      <td>10000</td>\n",
       "      <td>3</td>\n",
       "    </tr>\n",
       "    <tr>\n",
       "      <th>2</th>\n",
       "      <td>Umar</td>\n",
       "      <td>Dataanalyst</td>\n",
       "      <td>50.25</td>\n",
       "      <td>NaN</td>\n",
       "      <td>15000</td>\n",
       "      <td>4</td>\n",
       "    </tr>\n",
       "    <tr>\n",
       "      <th>3</th>\n",
       "      <td>Jane</td>\n",
       "      <td>Analytics</td>\n",
       "      <td>50.25</td>\n",
       "      <td>Hyderbad</td>\n",
       "      <td>20000</td>\n",
       "      <td>4.8</td>\n",
       "    </tr>\n",
       "    <tr>\n",
       "      <th>4</th>\n",
       "      <td>Uttam</td>\n",
       "      <td>Statistics</td>\n",
       "      <td>67</td>\n",
       "      <td>NaN</td>\n",
       "      <td>30000</td>\n",
       "      <td>5</td>\n",
       "    </tr>\n",
       "    <tr>\n",
       "      <th>5</th>\n",
       "      <td>Kim</td>\n",
       "      <td>NLP</td>\n",
       "      <td>55</td>\n",
       "      <td>Delhi</td>\n",
       "      <td>60000</td>\n",
       "      <td>10</td>\n",
       "    </tr>\n",
       "  </tbody>\n",
       "</table>\n",
       "</div>"
      ],
      "text/plain": [
       "    Name       Domain    Age   Location Salary  Exp\n",
       "0   Mike  Datascience     34     Mumbai   5000    2\n",
       "1  Teddy      Testing     45  Bangalore  10000    3\n",
       "2   Umar  Dataanalyst  50.25        NaN  15000    4\n",
       "3   Jane    Analytics  50.25   Hyderbad  20000  4.8\n",
       "4  Uttam   Statistics     67        NaN  30000    5\n",
       "5    Kim          NLP     55      Delhi  60000   10"
      ]
     },
     "execution_count": 50,
     "metadata": {},
     "output_type": "execute_result"
    }
   ],
   "source": [
    "clean_data"
   ]
  },
  {
   "cell_type": "code",
   "execution_count": 59,
   "id": "7a2c05b2-f6be-4d61-8735-97bfe8ebdbb9",
   "metadata": {},
   "outputs": [],
   "source": [
    "clean_data['Location']=clean_data['Location'].fillna(clean_data['Location'].mode()[0])"
   ]
  },
  {
   "cell_type": "code",
   "execution_count": 60,
   "id": "85c09343-0887-44b2-ba1d-0fa802a1c1cd",
   "metadata": {},
   "outputs": [
    {
     "data": {
      "text/html": [
       "<div>\n",
       "<style scoped>\n",
       "    .dataframe tbody tr th:only-of-type {\n",
       "        vertical-align: middle;\n",
       "    }\n",
       "\n",
       "    .dataframe tbody tr th {\n",
       "        vertical-align: top;\n",
       "    }\n",
       "\n",
       "    .dataframe thead th {\n",
       "        text-align: right;\n",
       "    }\n",
       "</style>\n",
       "<table border=\"1\" class=\"dataframe\">\n",
       "  <thead>\n",
       "    <tr style=\"text-align: right;\">\n",
       "      <th></th>\n",
       "      <th>Name</th>\n",
       "      <th>Domain</th>\n",
       "      <th>Age</th>\n",
       "      <th>Location</th>\n",
       "      <th>Salary</th>\n",
       "      <th>Exp</th>\n",
       "    </tr>\n",
       "  </thead>\n",
       "  <tbody>\n",
       "    <tr>\n",
       "      <th>0</th>\n",
       "      <td>Mike</td>\n",
       "      <td>Datascience</td>\n",
       "      <td>34</td>\n",
       "      <td>Mumbai</td>\n",
       "      <td>5000</td>\n",
       "      <td>2</td>\n",
       "    </tr>\n",
       "    <tr>\n",
       "      <th>1</th>\n",
       "      <td>Teddy</td>\n",
       "      <td>Testing</td>\n",
       "      <td>45</td>\n",
       "      <td>Bangalore</td>\n",
       "      <td>10000</td>\n",
       "      <td>3</td>\n",
       "    </tr>\n",
       "    <tr>\n",
       "      <th>2</th>\n",
       "      <td>Umar</td>\n",
       "      <td>Dataanalyst</td>\n",
       "      <td>50.25</td>\n",
       "      <td>Bangalore</td>\n",
       "      <td>15000</td>\n",
       "      <td>4</td>\n",
       "    </tr>\n",
       "    <tr>\n",
       "      <th>3</th>\n",
       "      <td>Jane</td>\n",
       "      <td>Analytics</td>\n",
       "      <td>50.25</td>\n",
       "      <td>Hyderbad</td>\n",
       "      <td>20000</td>\n",
       "      <td>4.8</td>\n",
       "    </tr>\n",
       "    <tr>\n",
       "      <th>4</th>\n",
       "      <td>Uttam</td>\n",
       "      <td>Statistics</td>\n",
       "      <td>67</td>\n",
       "      <td>Bangalore</td>\n",
       "      <td>30000</td>\n",
       "      <td>5</td>\n",
       "    </tr>\n",
       "    <tr>\n",
       "      <th>5</th>\n",
       "      <td>Kim</td>\n",
       "      <td>NLP</td>\n",
       "      <td>55</td>\n",
       "      <td>Delhi</td>\n",
       "      <td>60000</td>\n",
       "      <td>10</td>\n",
       "    </tr>\n",
       "  </tbody>\n",
       "</table>\n",
       "</div>"
      ],
      "text/plain": [
       "    Name       Domain    Age   Location Salary  Exp\n",
       "0   Mike  Datascience     34     Mumbai   5000    2\n",
       "1  Teddy      Testing     45  Bangalore  10000    3\n",
       "2   Umar  Dataanalyst  50.25  Bangalore  15000    4\n",
       "3   Jane    Analytics  50.25   Hyderbad  20000  4.8\n",
       "4  Uttam   Statistics     67  Bangalore  30000    5\n",
       "5    Kim          NLP     55      Delhi  60000   10"
      ]
     },
     "execution_count": 60,
     "metadata": {},
     "output_type": "execute_result"
    }
   ],
   "source": [
    "clean_data"
   ]
  },
  {
   "cell_type": "code",
   "execution_count": 61,
   "id": "77fc48a2-a8ab-4f68-a451-4b6ec569cccf",
   "metadata": {},
   "outputs": [],
   "source": [
    "clean_data['Age'] = clean_data['Age'].astype('int')"
   ]
  },
  {
   "cell_type": "code",
   "execution_count": 62,
   "id": "36c1f397-5b69-413b-b565-5dad13aae2e0",
   "metadata": {},
   "outputs": [
    {
     "data": {
      "text/plain": [
       "0    34\n",
       "1    45\n",
       "2    50\n",
       "3    50\n",
       "4    67\n",
       "5    55\n",
       "Name: Age, dtype: int32"
      ]
     },
     "execution_count": 62,
     "metadata": {},
     "output_type": "execute_result"
    }
   ],
   "source": [
    "clean_data['Age'] "
   ]
  },
  {
   "cell_type": "code",
   "execution_count": 63,
   "id": "b48b2183-4e1f-4865-91ff-4791dee363ee",
   "metadata": {},
   "outputs": [],
   "source": [
    "clean_data['Age'] = clean_data['Age'].astype('int')"
   ]
  },
  {
   "cell_type": "code",
   "execution_count": 64,
   "id": "dd2a88c4-43f5-41f6-b7d0-d2ce7468a499",
   "metadata": {},
   "outputs": [],
   "source": [
    "clean_data['Salary'] = clean_data['Salary'].astype('int')"
   ]
  },
  {
   "cell_type": "code",
   "execution_count": 65,
   "id": "20805153-d58c-4727-9c11-f06323a7cd19",
   "metadata": {},
   "outputs": [],
   "source": [
    "clean_data['Exp'] = clean_data['Exp'].astype('int')"
   ]
  },
  {
   "cell_type": "code",
   "execution_count": 66,
   "id": "285b4ec8-3757-4476-86e1-03b92ff5bbfe",
   "metadata": {},
   "outputs": [
    {
     "name": "stdout",
     "output_type": "stream",
     "text": [
      "<class 'pandas.core.frame.DataFrame'>\n",
      "RangeIndex: 6 entries, 0 to 5\n",
      "Data columns (total 6 columns):\n",
      " #   Column    Non-Null Count  Dtype \n",
      "---  ------    --------------  ----- \n",
      " 0   Name      6 non-null      object\n",
      " 1   Domain    6 non-null      object\n",
      " 2   Age       6 non-null      int32 \n",
      " 3   Location  6 non-null      object\n",
      " 4   Salary    6 non-null      int32 \n",
      " 5   Exp       6 non-null      int32 \n",
      "dtypes: int32(3), object(3)\n",
      "memory usage: 344.0+ bytes\n"
     ]
    }
   ],
   "source": [
    "clean_data.info()"
   ]
  },
  {
   "cell_type": "code",
   "execution_count": 68,
   "id": "109211c3-c154-4b99-b420-e3eb55f00d65",
   "metadata": {},
   "outputs": [],
   "source": [
    "clean_data['Name']=clean_data['Name'].astype('category')"
   ]
  },
  {
   "cell_type": "code",
   "execution_count": 70,
   "id": "6b292b38-cded-4dbe-ac73-15b1eb053478",
   "metadata": {},
   "outputs": [],
   "source": [
    "clean_data['Location']=clean_data['Location'].astype('category')"
   ]
  },
  {
   "cell_type": "code",
   "execution_count": 71,
   "id": "62b045e4-3007-4804-b470-38fe604ffb59",
   "metadata": {},
   "outputs": [],
   "source": [
    "clean_data['Domain']=clean_data['Domain'].astype('category')"
   ]
  },
  {
   "cell_type": "code",
   "execution_count": 72,
   "id": "97ca61ba-cedf-4253-b3a3-e268e8d865e2",
   "metadata": {},
   "outputs": [
    {
     "name": "stdout",
     "output_type": "stream",
     "text": [
      "<class 'pandas.core.frame.DataFrame'>\n",
      "RangeIndex: 6 entries, 0 to 5\n",
      "Data columns (total 6 columns):\n",
      " #   Column    Non-Null Count  Dtype   \n",
      "---  ------    --------------  -----   \n",
      " 0   Name      6 non-null      category\n",
      " 1   Domain    6 non-null      category\n",
      " 2   Age       6 non-null      int32   \n",
      " 3   Location  6 non-null      category\n",
      " 4   Salary    6 non-null      int32   \n",
      " 5   Exp       6 non-null      int32   \n",
      "dtypes: category(3), int32(3)\n",
      "memory usage: 862.0 bytes\n"
     ]
    }
   ],
   "source": [
    "clean_data.info()"
   ]
  },
  {
   "cell_type": "code",
   "execution_count": 73,
   "id": "cbfaf6bc-ab4f-4125-81d3-760b98b0ea92",
   "metadata": {},
   "outputs": [],
   "source": [
    "clean_data.to_csv('clean_data.csv')"
   ]
  },
  {
   "cell_type": "code",
   "execution_count": 74,
   "id": "876b964a-157e-48ee-a61f-a6adf65f6f4d",
   "metadata": {},
   "outputs": [],
   "source": [
    "import os"
   ]
  },
  {
   "cell_type": "code",
   "execution_count": 76,
   "id": "ecab1e8e-52af-4d8f-9e5b-7821d6ca3305",
   "metadata": {},
   "outputs": [
    {
     "data": {
      "text/plain": [
       "'C:\\\\Users\\\\soham'"
      ]
     },
     "execution_count": 76,
     "metadata": {},
     "output_type": "execute_result"
    }
   ],
   "source": [
    "os.getcwd()"
   ]
  },
  {
   "cell_type": "code",
   "execution_count": 78,
   "id": "14109817-1eb1-4ddc-af3c-a934ad89c994",
   "metadata": {},
   "outputs": [
    {
     "data": {
      "text/plain": [
       "'C:\\\\Users\\\\soham'"
      ]
     },
     "execution_count": 78,
     "metadata": {},
     "output_type": "execute_result"
    }
   ],
   "source": [
    "import os\n",
    "os.getcwd()"
   ]
  },
  {
   "cell_type": "code",
   "execution_count": 82,
   "id": "09a96572-7fd5-4af2-902e-cee6bf8edbc9",
   "metadata": {},
   "outputs": [
    {
     "data": {
      "text/plain": [
       "Index(['Name', 'Domain', 'Age', 'Location', 'Salary', 'Exp'], dtype='object')"
      ]
     },
     "execution_count": 82,
     "metadata": {},
     "output_type": "execute_result"
    }
   ],
   "source": [
    "clean_data.columns\n"
   ]
  },
  {
   "cell_type": "code",
   "execution_count": 90,
   "id": "7459d3fb-793e-4624-aedd-824e2af31613",
   "metadata": {},
   "outputs": [],
   "source": [
    "import matplotlib.pyplot as plt\n",
    "import seaborn as sns\n",
    "import warnings\n",
    "warnings.filterwarnings('ignore')"
   ]
  },
  {
   "cell_type": "code",
   "execution_count": 91,
   "id": "8598d287-beb4-42c5-bc78-713c6577ebc0",
   "metadata": {},
   "outputs": [
    {
     "data": {
      "text/html": [
       "<div>\n",
       "<style scoped>\n",
       "    .dataframe tbody tr th:only-of-type {\n",
       "        vertical-align: middle;\n",
       "    }\n",
       "\n",
       "    .dataframe tbody tr th {\n",
       "        vertical-align: top;\n",
       "    }\n",
       "\n",
       "    .dataframe thead th {\n",
       "        text-align: right;\n",
       "    }\n",
       "</style>\n",
       "<table border=\"1\" class=\"dataframe\">\n",
       "  <thead>\n",
       "    <tr style=\"text-align: right;\">\n",
       "      <th></th>\n",
       "      <th>Name</th>\n",
       "      <th>Domain</th>\n",
       "      <th>Age</th>\n",
       "      <th>Location</th>\n",
       "      <th>Salary</th>\n",
       "      <th>Exp</th>\n",
       "    </tr>\n",
       "  </thead>\n",
       "  <tbody>\n",
       "    <tr>\n",
       "      <th>0</th>\n",
       "      <td>Mike</td>\n",
       "      <td>Datascience</td>\n",
       "      <td>34</td>\n",
       "      <td>Mumbai</td>\n",
       "      <td>5000</td>\n",
       "      <td>2</td>\n",
       "    </tr>\n",
       "    <tr>\n",
       "      <th>1</th>\n",
       "      <td>Teddy</td>\n",
       "      <td>Testing</td>\n",
       "      <td>45</td>\n",
       "      <td>Bangalore</td>\n",
       "      <td>10000</td>\n",
       "      <td>3</td>\n",
       "    </tr>\n",
       "    <tr>\n",
       "      <th>2</th>\n",
       "      <td>Umar</td>\n",
       "      <td>Dataanalyst</td>\n",
       "      <td>50</td>\n",
       "      <td>Bangalore</td>\n",
       "      <td>15000</td>\n",
       "      <td>4</td>\n",
       "    </tr>\n",
       "    <tr>\n",
       "      <th>3</th>\n",
       "      <td>Jane</td>\n",
       "      <td>Analytics</td>\n",
       "      <td>50</td>\n",
       "      <td>Hyderbad</td>\n",
       "      <td>20000</td>\n",
       "      <td>4</td>\n",
       "    </tr>\n",
       "    <tr>\n",
       "      <th>4</th>\n",
       "      <td>Uttam</td>\n",
       "      <td>Statistics</td>\n",
       "      <td>67</td>\n",
       "      <td>Bangalore</td>\n",
       "      <td>30000</td>\n",
       "      <td>5</td>\n",
       "    </tr>\n",
       "    <tr>\n",
       "      <th>5</th>\n",
       "      <td>Kim</td>\n",
       "      <td>NLP</td>\n",
       "      <td>55</td>\n",
       "      <td>Delhi</td>\n",
       "      <td>60000</td>\n",
       "      <td>10</td>\n",
       "    </tr>\n",
       "  </tbody>\n",
       "</table>\n",
       "</div>"
      ],
      "text/plain": [
       "    Name       Domain  Age   Location  Salary  Exp\n",
       "0   Mike  Datascience   34     Mumbai    5000    2\n",
       "1  Teddy      Testing   45  Bangalore   10000    3\n",
       "2   Umar  Dataanalyst   50  Bangalore   15000    4\n",
       "3   Jane    Analytics   50   Hyderbad   20000    4\n",
       "4  Uttam   Statistics   67  Bangalore   30000    5\n",
       "5    Kim          NLP   55      Delhi   60000   10"
      ]
     },
     "execution_count": 91,
     "metadata": {},
     "output_type": "execute_result"
    }
   ],
   "source": [
    "clean_data"
   ]
  },
  {
   "cell_type": "code",
   "execution_count": 92,
   "id": "fb0b6fbe-f608-433c-bbab-bce18417bca6",
   "metadata": {},
   "outputs": [
    {
     "data": {
      "text/plain": [
       "0     5000\n",
       "1    10000\n",
       "2    15000\n",
       "3    20000\n",
       "4    30000\n",
       "5    60000\n",
       "Name: Salary, dtype: int32"
      ]
     },
     "execution_count": 92,
     "metadata": {},
     "output_type": "execute_result"
    }
   ],
   "source": [
    "clean_data['Salary']"
   ]
  },
  {
   "cell_type": "code",
   "execution_count": 93,
   "id": "7bbd5d83-f896-4bac-a54f-d6dfae327ca2",
   "metadata": {},
   "outputs": [
    {
     "data": {
      "image/png": "[encoded data removed]",
      "text/plain": [
       "<Figure size 500x500 with 1 Axes>"
      ]
     },
     "metadata": {},
     "output_type": "display_data"
    }
   ],
   "source": [
    "data = sns.displot(clean_data['Salary'])"
   ]
  },
  {
   "cell_type": "code",
   "execution_count": 94,
   "id": "6d8fb05e-1448-4b66-9ba6-af8bdc19312a",
   "metadata": {},
   "outputs": [
    {
     "data": {
      "image/png": "[encoded data removed]",
      "text/plain": [
       "<Figure size 640x480 with 1 Axes>"
      ]
     },
     "metadata": {},
     "output_type": "display_data"
    }
   ],
   "source": [
    "data1 = sns.distplot(clean_data['Salary'])"
   ]
  },
  {
   "cell_type": "code",
   "execution_count": 101,
   "id": "d45e0043-76ce-4e4b-8faf-6de9cd9b7baf",
   "metadata": {},
   "outputs": [
    {
     "data": {
      "image/png": "[encoded data removed]",
      "text/plain": [
       "<Figure size 640x480 with 1 Axes>"
      ]
     },
     "metadata": {},
     "output_type": "display_data"
    }
   ],
   "source": [
    "data1 = sns.distplot(clean_data['Salary'])"
   ]
  },
  {
   "cell_type": "code",
   "execution_count": 102,
   "id": "a8d6ac8d-7706-4263-b2fe-e08cad0922bf",
   "metadata": {},
   "outputs": [
    {
     "data": {
      "image/png": "[encoded data removed]",
      "text/plain": [
       "<Figure size 640x480 with 1 Axes>"
      ]
     },
     "metadata": {},
     "output_type": "display_data"
    }
   ],
   "source": [
    "data2 = plt.hist(clean_data['Salary'])"
   ]
  },
  {
   "cell_type": "code",
   "execution_count": 103,
   "id": "ef00d696-00b4-4bc4-a809-c5542315df49",
   "metadata": {},
   "outputs": [
    {
     "data": {
      "image/png": "[encoded data removed]",
      "text/plain": [
       "<Figure size 640x480 with 1 Axes>"
      ]
     },
     "metadata": {},
     "output_type": "display_data"
    }
   ],
   "source": [
    "data3 = plt.hist(clean_data['Exp'])"
   ]
  },
  {
   "cell_type": "code",
   "execution_count": 104,
   "id": "b557ed48-10c9-43f7-9904-ea2d1c3269d0",
   "metadata": {},
   "outputs": [
    {
     "data": {
      "image/png": "[encoded data removed]",
      "text/plain": [
       "<Figure size 500x500 with 1 Axes>"
      ]
     },
     "metadata": {},
     "output_type": "display_data"
    }
   ],
   "source": [
    "data4 = sns.lmplot(data=clean_data,x='Salary',y='Exp')"
   ]
  },
  {
   "cell_type": "code",
   "execution_count": 116,
   "id": "b36c5d93-ffe1-4333-8c44-b9d142555761",
   "metadata": {},
   "outputs": [
    {
     "data": {
      "image/png": "[encoded data removed]",
      "text/plain": [
       "<Figure size 500x500 with 1 Axes>"
      ]
     },
     "metadata": {},
     "output_type": "display_data"
    }
   ],
   "source": [
    "data5= sns.lmplot(data=clean_data,x='Exp',y='Salary', fit_reg = False)\n"
   ]
  },
  {
   "cell_type": "code",
   "execution_count": 117,
   "id": "3971c0fd-2f91-44c8-a5d8-d29da41fe031",
   "metadata": {},
   "outputs": [
    {
     "data": {
      "image/png": "[encoded data removed]",
      "text/plain": [
       "<Figure size 500x500 with 1 Axes>"
      ]
     },
     "metadata": {},
     "output_type": "display_data"
    }
   ],
   "source": [
    "data5= sns.lmplot(data=clean_data,x='Exp',y='Salary', fit_reg = True)"
   ]
  },
  {
   "cell_type": "code",
   "execution_count": 118,
   "id": "3b96a242-a9d9-4686-8d20-808534615244",
   "metadata": {},
   "outputs": [
    {
     "data": {
      "text/html": [
       "<div>\n",
       "<style scoped>\n",
       "    .dataframe tbody tr th:only-of-type {\n",
       "        vertical-align: middle;\n",
       "    }\n",
       "\n",
       "    .dataframe tbody tr th {\n",
       "        vertical-align: top;\n",
       "    }\n",
       "\n",
       "    .dataframe thead th {\n",
       "        text-align: right;\n",
       "    }\n",
       "</style>\n",
       "<table border=\"1\" class=\"dataframe\">\n",
       "  <thead>\n",
       "    <tr style=\"text-align: right;\">\n",
       "      <th></th>\n",
       "      <th>Name</th>\n",
       "      <th>Domain</th>\n",
       "      <th>Age</th>\n",
       "      <th>Location</th>\n",
       "      <th>Salary</th>\n",
       "      <th>Exp</th>\n",
       "    </tr>\n",
       "  </thead>\n",
       "  <tbody>\n",
       "    <tr>\n",
       "      <th>0</th>\n",
       "      <td>Mike</td>\n",
       "      <td>Datascience</td>\n",
       "      <td>34</td>\n",
       "      <td>Mumbai</td>\n",
       "      <td>5000</td>\n",
       "      <td>2</td>\n",
       "    </tr>\n",
       "    <tr>\n",
       "      <th>1</th>\n",
       "      <td>Teddy</td>\n",
       "      <td>Testing</td>\n",
       "      <td>45</td>\n",
       "      <td>Bangalore</td>\n",
       "      <td>10000</td>\n",
       "      <td>3</td>\n",
       "    </tr>\n",
       "    <tr>\n",
       "      <th>2</th>\n",
       "      <td>Umar</td>\n",
       "      <td>Dataanalyst</td>\n",
       "      <td>50</td>\n",
       "      <td>Bangalore</td>\n",
       "      <td>15000</td>\n",
       "      <td>4</td>\n",
       "    </tr>\n",
       "    <tr>\n",
       "      <th>3</th>\n",
       "      <td>Jane</td>\n",
       "      <td>Analytics</td>\n",
       "      <td>50</td>\n",
       "      <td>Hyderbad</td>\n",
       "      <td>20000</td>\n",
       "      <td>4</td>\n",
       "    </tr>\n",
       "    <tr>\n",
       "      <th>4</th>\n",
       "      <td>Uttam</td>\n",
       "      <td>Statistics</td>\n",
       "      <td>67</td>\n",
       "      <td>Bangalore</td>\n",
       "      <td>30000</td>\n",
       "      <td>5</td>\n",
       "    </tr>\n",
       "    <tr>\n",
       "      <th>5</th>\n",
       "      <td>Kim</td>\n",
       "      <td>NLP</td>\n",
       "      <td>55</td>\n",
       "      <td>Delhi</td>\n",
       "      <td>60000</td>\n",
       "      <td>10</td>\n",
       "    </tr>\n",
       "  </tbody>\n",
       "</table>\n",
       "</div>"
      ],
      "text/plain": [
       "    Name       Domain  Age   Location  Salary  Exp\n",
       "0   Mike  Datascience   34     Mumbai    5000    2\n",
       "1  Teddy      Testing   45  Bangalore   10000    3\n",
       "2   Umar  Dataanalyst   50  Bangalore   15000    4\n",
       "3   Jane    Analytics   50   Hyderbad   20000    4\n",
       "4  Uttam   Statistics   67  Bangalore   30000    5\n",
       "5    Kim          NLP   55      Delhi   60000   10"
      ]
     },
     "execution_count": 118,
     "metadata": {},
     "output_type": "execute_result"
    }
   ],
   "source": [
    "clean_data"
   ]
  },
  {
   "cell_type": "code",
   "execution_count": 119,
   "id": "c6de927e-5c90-4e6c-8b8b-d65e6405de86",
   "metadata": {},
   "outputs": [
    {
     "data": {
      "text/html": [
       "<div>\n",
       "<style scoped>\n",
       "    .dataframe tbody tr th:only-of-type {\n",
       "        vertical-align: middle;\n",
       "    }\n",
       "\n",
       "    .dataframe tbody tr th {\n",
       "        vertical-align: top;\n",
       "    }\n",
       "\n",
       "    .dataframe thead th {\n",
       "        text-align: right;\n",
       "    }\n",
       "</style>\n",
       "<table border=\"1\" class=\"dataframe\">\n",
       "  <thead>\n",
       "    <tr style=\"text-align: right;\">\n",
       "      <th></th>\n",
       "      <th>Name</th>\n",
       "      <th>Domain</th>\n",
       "      <th>Age</th>\n",
       "      <th>Location</th>\n",
       "      <th>Salary</th>\n",
       "      <th>Exp</th>\n",
       "    </tr>\n",
       "  </thead>\n",
       "  <tbody>\n",
       "    <tr>\n",
       "      <th>0</th>\n",
       "      <td>Mike</td>\n",
       "      <td>Datascience</td>\n",
       "      <td>34</td>\n",
       "      <td>Mumbai</td>\n",
       "      <td>5000</td>\n",
       "      <td>2</td>\n",
       "    </tr>\n",
       "    <tr>\n",
       "      <th>1</th>\n",
       "      <td>Teddy</td>\n",
       "      <td>Testing</td>\n",
       "      <td>45</td>\n",
       "      <td>Bangalore</td>\n",
       "      <td>10000</td>\n",
       "      <td>3</td>\n",
       "    </tr>\n",
       "    <tr>\n",
       "      <th>2</th>\n",
       "      <td>Umar</td>\n",
       "      <td>Dataanalyst</td>\n",
       "      <td>50</td>\n",
       "      <td>Bangalore</td>\n",
       "      <td>15000</td>\n",
       "      <td>4</td>\n",
       "    </tr>\n",
       "    <tr>\n",
       "      <th>3</th>\n",
       "      <td>Jane</td>\n",
       "      <td>Analytics</td>\n",
       "      <td>50</td>\n",
       "      <td>Hyderbad</td>\n",
       "      <td>20000</td>\n",
       "      <td>4</td>\n",
       "    </tr>\n",
       "    <tr>\n",
       "      <th>4</th>\n",
       "      <td>Uttam</td>\n",
       "      <td>Statistics</td>\n",
       "      <td>67</td>\n",
       "      <td>Bangalore</td>\n",
       "      <td>30000</td>\n",
       "      <td>5</td>\n",
       "    </tr>\n",
       "    <tr>\n",
       "      <th>5</th>\n",
       "      <td>Kim</td>\n",
       "      <td>NLP</td>\n",
       "      <td>55</td>\n",
       "      <td>Delhi</td>\n",
       "      <td>60000</td>\n",
       "      <td>10</td>\n",
       "    </tr>\n",
       "  </tbody>\n",
       "</table>\n",
       "</div>"
      ],
      "text/plain": [
       "    Name       Domain  Age   Location  Salary  Exp\n",
       "0   Mike  Datascience   34     Mumbai    5000    2\n",
       "1  Teddy      Testing   45  Bangalore   10000    3\n",
       "2   Umar  Dataanalyst   50  Bangalore   15000    4\n",
       "3   Jane    Analytics   50   Hyderbad   20000    4\n",
       "4  Uttam   Statistics   67  Bangalore   30000    5\n",
       "5    Kim          NLP   55      Delhi   60000   10"
      ]
     },
     "execution_count": 119,
     "metadata": {},
     "output_type": "execute_result"
    }
   ],
   "source": [
    "clean_data[:]"
   ]
  },
  {
   "cell_type": "code",
   "execution_count": 120,
   "id": "4162a742-69d3-40cb-8855-3e5033f003db",
   "metadata": {},
   "outputs": [
    {
     "data": {
      "text/html": [
       "<div>\n",
       "<style scoped>\n",
       "    .dataframe tbody tr th:only-of-type {\n",
       "        vertical-align: middle;\n",
       "    }\n",
       "\n",
       "    .dataframe tbody tr th {\n",
       "        vertical-align: top;\n",
       "    }\n",
       "\n",
       "    .dataframe thead th {\n",
       "        text-align: right;\n",
       "    }\n",
       "</style>\n",
       "<table border=\"1\" class=\"dataframe\">\n",
       "  <thead>\n",
       "    <tr style=\"text-align: right;\">\n",
       "      <th></th>\n",
       "      <th>Name</th>\n",
       "      <th>Domain</th>\n",
       "      <th>Age</th>\n",
       "      <th>Location</th>\n",
       "      <th>Salary</th>\n",
       "      <th>Exp</th>\n",
       "    </tr>\n",
       "  </thead>\n",
       "  <tbody>\n",
       "    <tr>\n",
       "      <th>0</th>\n",
       "      <td>Mike</td>\n",
       "      <td>Datascience</td>\n",
       "      <td>34</td>\n",
       "      <td>Mumbai</td>\n",
       "      <td>5000</td>\n",
       "      <td>2</td>\n",
       "    </tr>\n",
       "    <tr>\n",
       "      <th>1</th>\n",
       "      <td>Teddy</td>\n",
       "      <td>Testing</td>\n",
       "      <td>45</td>\n",
       "      <td>Bangalore</td>\n",
       "      <td>10000</td>\n",
       "      <td>3</td>\n",
       "    </tr>\n",
       "  </tbody>\n",
       "</table>\n",
       "</div>"
      ],
      "text/plain": [
       "    Name       Domain  Age   Location  Salary  Exp\n",
       "0   Mike  Datascience   34     Mumbai    5000    2\n",
       "1  Teddy      Testing   45  Bangalore   10000    3"
      ]
     },
     "execution_count": 120,
     "metadata": {},
     "output_type": "execute_result"
    }
   ],
   "source": [
    "clean_data[:2]"
   ]
  },
  {
   "cell_type": "code",
   "execution_count": 121,
   "id": "16e8df25-7123-4d0e-aa53-af1c82f6036e",
   "metadata": {},
   "outputs": [
    {
     "data": {
      "text/html": [
       "<div>\n",
       "<style scoped>\n",
       "    .dataframe tbody tr th:only-of-type {\n",
       "        vertical-align: middle;\n",
       "    }\n",
       "\n",
       "    .dataframe tbody tr th {\n",
       "        vertical-align: top;\n",
       "    }\n",
       "\n",
       "    .dataframe thead th {\n",
       "        text-align: right;\n",
       "    }\n",
       "</style>\n",
       "<table border=\"1\" class=\"dataframe\">\n",
       "  <thead>\n",
       "    <tr style=\"text-align: right;\">\n",
       "      <th></th>\n",
       "      <th>Name</th>\n",
       "      <th>Domain</th>\n",
       "      <th>Age</th>\n",
       "      <th>Location</th>\n",
       "      <th>Salary</th>\n",
       "      <th>Exp</th>\n",
       "    </tr>\n",
       "  </thead>\n",
       "  <tbody>\n",
       "    <tr>\n",
       "      <th>2</th>\n",
       "      <td>Umar</td>\n",
       "      <td>Dataanalyst</td>\n",
       "      <td>50</td>\n",
       "      <td>Bangalore</td>\n",
       "      <td>15000</td>\n",
       "      <td>4</td>\n",
       "    </tr>\n",
       "    <tr>\n",
       "      <th>3</th>\n",
       "      <td>Jane</td>\n",
       "      <td>Analytics</td>\n",
       "      <td>50</td>\n",
       "      <td>Hyderbad</td>\n",
       "      <td>20000</td>\n",
       "      <td>4</td>\n",
       "    </tr>\n",
       "    <tr>\n",
       "      <th>4</th>\n",
       "      <td>Uttam</td>\n",
       "      <td>Statistics</td>\n",
       "      <td>67</td>\n",
       "      <td>Bangalore</td>\n",
       "      <td>30000</td>\n",
       "      <td>5</td>\n",
       "    </tr>\n",
       "    <tr>\n",
       "      <th>5</th>\n",
       "      <td>Kim</td>\n",
       "      <td>NLP</td>\n",
       "      <td>55</td>\n",
       "      <td>Delhi</td>\n",
       "      <td>60000</td>\n",
       "      <td>10</td>\n",
       "    </tr>\n",
       "  </tbody>\n",
       "</table>\n",
       "</div>"
      ],
      "text/plain": [
       "    Name       Domain  Age   Location  Salary  Exp\n",
       "2   Umar  Dataanalyst   50  Bangalore   15000    4\n",
       "3   Jane    Analytics   50   Hyderbad   20000    4\n",
       "4  Uttam   Statistics   67  Bangalore   30000    5\n",
       "5    Kim          NLP   55      Delhi   60000   10"
      ]
     },
     "execution_count": 121,
     "metadata": {},
     "output_type": "execute_result"
    }
   ],
   "source": [
    "clean_data[2:]"
   ]
  },
  {
   "cell_type": "code",
   "execution_count": 122,
   "id": "051a6321-fa9c-464b-bb11-8e55545fb0d7",
   "metadata": {},
   "outputs": [
    {
     "data": {
      "text/html": [
       "<div>\n",
       "<style scoped>\n",
       "    .dataframe tbody tr th:only-of-type {\n",
       "        vertical-align: middle;\n",
       "    }\n",
       "\n",
       "    .dataframe tbody tr th {\n",
       "        vertical-align: top;\n",
       "    }\n",
       "\n",
       "    .dataframe thead th {\n",
       "        text-align: right;\n",
       "    }\n",
       "</style>\n",
       "<table border=\"1\" class=\"dataframe\">\n",
       "  <thead>\n",
       "    <tr style=\"text-align: right;\">\n",
       "      <th></th>\n",
       "      <th>Name</th>\n",
       "      <th>Domain</th>\n",
       "      <th>Age</th>\n",
       "      <th>Location</th>\n",
       "      <th>Salary</th>\n",
       "      <th>Exp</th>\n",
       "    </tr>\n",
       "  </thead>\n",
       "  <tbody>\n",
       "    <tr>\n",
       "      <th>0</th>\n",
       "      <td>Mike</td>\n",
       "      <td>Datascience</td>\n",
       "      <td>34</td>\n",
       "      <td>Mumbai</td>\n",
       "      <td>5000</td>\n",
       "      <td>2</td>\n",
       "    </tr>\n",
       "  </tbody>\n",
       "</table>\n",
       "</div>"
      ],
      "text/plain": [
       "   Name       Domain  Age Location  Salary  Exp\n",
       "0  Mike  Datascience   34   Mumbai    5000    2"
      ]
     },
     "execution_count": 122,
     "metadata": {},
     "output_type": "execute_result"
    }
   ],
   "source": [
    "clean_data[0:1]"
   ]
  },
  {
   "cell_type": "code",
   "execution_count": 123,
   "id": "9b31a3da-9cf9-4830-aac2-b2bcbf604a2e",
   "metadata": {},
   "outputs": [
    {
     "data": {
      "text/html": [
       "<div>\n",
       "<style scoped>\n",
       "    .dataframe tbody tr th:only-of-type {\n",
       "        vertical-align: middle;\n",
       "    }\n",
       "\n",
       "    .dataframe tbody tr th {\n",
       "        vertical-align: top;\n",
       "    }\n",
       "\n",
       "    .dataframe thead th {\n",
       "        text-align: right;\n",
       "    }\n",
       "</style>\n",
       "<table border=\"1\" class=\"dataframe\">\n",
       "  <thead>\n",
       "    <tr style=\"text-align: right;\">\n",
       "      <th></th>\n",
       "      <th>Name</th>\n",
       "      <th>Domain</th>\n",
       "      <th>Age</th>\n",
       "      <th>Location</th>\n",
       "      <th>Salary</th>\n",
       "      <th>Exp</th>\n",
       "    </tr>\n",
       "  </thead>\n",
       "  <tbody>\n",
       "    <tr>\n",
       "      <th>0</th>\n",
       "      <td>Mike</td>\n",
       "      <td>Datascience</td>\n",
       "      <td>34</td>\n",
       "      <td>Mumbai</td>\n",
       "      <td>5000</td>\n",
       "      <td>2</td>\n",
       "    </tr>\n",
       "    <tr>\n",
       "      <th>1</th>\n",
       "      <td>Teddy</td>\n",
       "      <td>Testing</td>\n",
       "      <td>45</td>\n",
       "      <td>Bangalore</td>\n",
       "      <td>10000</td>\n",
       "      <td>3</td>\n",
       "    </tr>\n",
       "    <tr>\n",
       "      <th>2</th>\n",
       "      <td>Umar</td>\n",
       "      <td>Dataanalyst</td>\n",
       "      <td>50</td>\n",
       "      <td>Bangalore</td>\n",
       "      <td>15000</td>\n",
       "      <td>4</td>\n",
       "    </tr>\n",
       "  </tbody>\n",
       "</table>\n",
       "</div>"
      ],
      "text/plain": [
       "    Name       Domain  Age   Location  Salary  Exp\n",
       "0   Mike  Datascience   34     Mumbai    5000    2\n",
       "1  Teddy      Testing   45  Bangalore   10000    3\n",
       "2   Umar  Dataanalyst   50  Bangalore   15000    4"
      ]
     },
     "execution_count": 123,
     "metadata": {},
     "output_type": "execute_result"
    }
   ],
   "source": [
    "clean_data[0:3]"
   ]
  },
  {
   "cell_type": "code",
   "execution_count": 124,
   "id": "6776e081-e391-4e35-884e-dddfb6311913",
   "metadata": {},
   "outputs": [
    {
     "data": {
      "text/html": [
       "<div>\n",
       "<style scoped>\n",
       "    .dataframe tbody tr th:only-of-type {\n",
       "        vertical-align: middle;\n",
       "    }\n",
       "\n",
       "    .dataframe tbody tr th {\n",
       "        vertical-align: top;\n",
       "    }\n",
       "\n",
       "    .dataframe thead th {\n",
       "        text-align: right;\n",
       "    }\n",
       "</style>\n",
       "<table border=\"1\" class=\"dataframe\">\n",
       "  <thead>\n",
       "    <tr style=\"text-align: right;\">\n",
       "      <th></th>\n",
       "      <th>Name</th>\n",
       "      <th>Domain</th>\n",
       "      <th>Age</th>\n",
       "      <th>Location</th>\n",
       "      <th>Salary</th>\n",
       "      <th>Exp</th>\n",
       "    </tr>\n",
       "  </thead>\n",
       "  <tbody>\n",
       "    <tr>\n",
       "      <th>0</th>\n",
       "      <td>Mike</td>\n",
       "      <td>Datascience</td>\n",
       "      <td>34</td>\n",
       "      <td>Mumbai</td>\n",
       "      <td>5000</td>\n",
       "      <td>2</td>\n",
       "    </tr>\n",
       "    <tr>\n",
       "      <th>1</th>\n",
       "      <td>Teddy</td>\n",
       "      <td>Testing</td>\n",
       "      <td>45</td>\n",
       "      <td>Bangalore</td>\n",
       "      <td>10000</td>\n",
       "      <td>3</td>\n",
       "    </tr>\n",
       "    <tr>\n",
       "      <th>2</th>\n",
       "      <td>Umar</td>\n",
       "      <td>Dataanalyst</td>\n",
       "      <td>50</td>\n",
       "      <td>Bangalore</td>\n",
       "      <td>15000</td>\n",
       "      <td>4</td>\n",
       "    </tr>\n",
       "    <tr>\n",
       "      <th>3</th>\n",
       "      <td>Jane</td>\n",
       "      <td>Analytics</td>\n",
       "      <td>50</td>\n",
       "      <td>Hyderbad</td>\n",
       "      <td>20000</td>\n",
       "      <td>4</td>\n",
       "    </tr>\n",
       "    <tr>\n",
       "      <th>4</th>\n",
       "      <td>Uttam</td>\n",
       "      <td>Statistics</td>\n",
       "      <td>67</td>\n",
       "      <td>Bangalore</td>\n",
       "      <td>30000</td>\n",
       "      <td>5</td>\n",
       "    </tr>\n",
       "    <tr>\n",
       "      <th>5</th>\n",
       "      <td>Kim</td>\n",
       "      <td>NLP</td>\n",
       "      <td>55</td>\n",
       "      <td>Delhi</td>\n",
       "      <td>60000</td>\n",
       "      <td>10</td>\n",
       "    </tr>\n",
       "  </tbody>\n",
       "</table>\n",
       "</div>"
      ],
      "text/plain": [
       "    Name       Domain  Age   Location  Salary  Exp\n",
       "0   Mike  Datascience   34     Mumbai    5000    2\n",
       "1  Teddy      Testing   45  Bangalore   10000    3\n",
       "2   Umar  Dataanalyst   50  Bangalore   15000    4\n",
       "3   Jane    Analytics   50   Hyderbad   20000    4\n",
       "4  Uttam   Statistics   67  Bangalore   30000    5\n",
       "5    Kim          NLP   55      Delhi   60000   10"
      ]
     },
     "execution_count": 124,
     "metadata": {},
     "output_type": "execute_result"
    }
   ],
   "source": [
    "clean_data"
   ]
  },
  {
   "cell_type": "code",
   "execution_count": 128,
   "id": "8568e41b-c3aa-45dc-a32f-d454d9bf05cf",
   "metadata": {},
   "outputs": [],
   "source": [
    "data = clean_data.drop(['Exp'],axis=1)"
   ]
  },
  {
   "cell_type": "code",
   "execution_count": 129,
   "id": "438b28fe-b65a-4b9d-a3c5-273f65a1f888",
   "metadata": {},
   "outputs": [
    {
     "data": {
      "text/html": [
       "<div>\n",
       "<style scoped>\n",
       "    .dataframe tbody tr th:only-of-type {\n",
       "        vertical-align: middle;\n",
       "    }\n",
       "\n",
       "    .dataframe tbody tr th {\n",
       "        vertical-align: top;\n",
       "    }\n",
       "\n",
       "    .dataframe thead th {\n",
       "        text-align: right;\n",
       "    }\n",
       "</style>\n",
       "<table border=\"1\" class=\"dataframe\">\n",
       "  <thead>\n",
       "    <tr style=\"text-align: right;\">\n",
       "      <th></th>\n",
       "      <th>Name</th>\n",
       "      <th>Domain</th>\n",
       "      <th>Age</th>\n",
       "      <th>Location</th>\n",
       "      <th>Salary</th>\n",
       "    </tr>\n",
       "  </thead>\n",
       "  <tbody>\n",
       "    <tr>\n",
       "      <th>0</th>\n",
       "      <td>Mike</td>\n",
       "      <td>Datascience</td>\n",
       "      <td>34</td>\n",
       "      <td>Mumbai</td>\n",
       "      <td>5000</td>\n",
       "    </tr>\n",
       "    <tr>\n",
       "      <th>1</th>\n",
       "      <td>Teddy</td>\n",
       "      <td>Testing</td>\n",
       "      <td>45</td>\n",
       "      <td>Bangalore</td>\n",
       "      <td>10000</td>\n",
       "    </tr>\n",
       "    <tr>\n",
       "      <th>2</th>\n",
       "      <td>Umar</td>\n",
       "      <td>Dataanalyst</td>\n",
       "      <td>50</td>\n",
       "      <td>Bangalore</td>\n",
       "      <td>15000</td>\n",
       "    </tr>\n",
       "    <tr>\n",
       "      <th>3</th>\n",
       "      <td>Jane</td>\n",
       "      <td>Analytics</td>\n",
       "      <td>50</td>\n",
       "      <td>Hyderbad</td>\n",
       "      <td>20000</td>\n",
       "    </tr>\n",
       "    <tr>\n",
       "      <th>4</th>\n",
       "      <td>Uttam</td>\n",
       "      <td>Statistics</td>\n",
       "      <td>67</td>\n",
       "      <td>Bangalore</td>\n",
       "      <td>30000</td>\n",
       "    </tr>\n",
       "    <tr>\n",
       "      <th>5</th>\n",
       "      <td>Kim</td>\n",
       "      <td>NLP</td>\n",
       "      <td>55</td>\n",
       "      <td>Delhi</td>\n",
       "      <td>60000</td>\n",
       "    </tr>\n",
       "  </tbody>\n",
       "</table>\n",
       "</div>"
      ],
      "text/plain": [
       "    Name       Domain  Age   Location  Salary\n",
       "0   Mike  Datascience   34     Mumbai    5000\n",
       "1  Teddy      Testing   45  Bangalore   10000\n",
       "2   Umar  Dataanalyst   50  Bangalore   15000\n",
       "3   Jane    Analytics   50   Hyderbad   20000\n",
       "4  Uttam   Statistics   67  Bangalore   30000\n",
       "5    Kim          NLP   55      Delhi   60000"
      ]
     },
     "execution_count": 129,
     "metadata": {},
     "output_type": "execute_result"
    }
   ],
   "source": [
    "data\n"
   ]
  },
  {
   "cell_type": "code",
   "execution_count": 132,
   "id": "b9ebfa41-3639-4418-8fff-f1de1cb5ab09",
   "metadata": {},
   "outputs": [],
   "source": [
    "data=clean_data.drop(['Salary'],axis=1)"
   ]
  },
  {
   "cell_type": "code",
   "execution_count": 133,
   "id": "86139034-b277-4070-85d4-3f96e94db089",
   "metadata": {},
   "outputs": [
    {
     "data": {
      "text/html": [
       "<div>\n",
       "<style scoped>\n",
       "    .dataframe tbody tr th:only-of-type {\n",
       "        vertical-align: middle;\n",
       "    }\n",
       "\n",
       "    .dataframe tbody tr th {\n",
       "        vertical-align: top;\n",
       "    }\n",
       "\n",
       "    .dataframe thead th {\n",
       "        text-align: right;\n",
       "    }\n",
       "</style>\n",
       "<table border=\"1\" class=\"dataframe\">\n",
       "  <thead>\n",
       "    <tr style=\"text-align: right;\">\n",
       "      <th></th>\n",
       "      <th>Name</th>\n",
       "      <th>Domain</th>\n",
       "      <th>Age</th>\n",
       "      <th>Location</th>\n",
       "      <th>Exp</th>\n",
       "    </tr>\n",
       "  </thead>\n",
       "  <tbody>\n",
       "    <tr>\n",
       "      <th>0</th>\n",
       "      <td>Mike</td>\n",
       "      <td>Datascience</td>\n",
       "      <td>34</td>\n",
       "      <td>Mumbai</td>\n",
       "      <td>2</td>\n",
       "    </tr>\n",
       "    <tr>\n",
       "      <th>1</th>\n",
       "      <td>Teddy</td>\n",
       "      <td>Testing</td>\n",
       "      <td>45</td>\n",
       "      <td>Bangalore</td>\n",
       "      <td>3</td>\n",
       "    </tr>\n",
       "    <tr>\n",
       "      <th>2</th>\n",
       "      <td>Umar</td>\n",
       "      <td>Dataanalyst</td>\n",
       "      <td>50</td>\n",
       "      <td>Bangalore</td>\n",
       "      <td>4</td>\n",
       "    </tr>\n",
       "    <tr>\n",
       "      <th>3</th>\n",
       "      <td>Jane</td>\n",
       "      <td>Analytics</td>\n",
       "      <td>50</td>\n",
       "      <td>Hyderbad</td>\n",
       "      <td>4</td>\n",
       "    </tr>\n",
       "    <tr>\n",
       "      <th>4</th>\n",
       "      <td>Uttam</td>\n",
       "      <td>Statistics</td>\n",
       "      <td>67</td>\n",
       "      <td>Bangalore</td>\n",
       "      <td>5</td>\n",
       "    </tr>\n",
       "    <tr>\n",
       "      <th>5</th>\n",
       "      <td>Kim</td>\n",
       "      <td>NLP</td>\n",
       "      <td>55</td>\n",
       "      <td>Delhi</td>\n",
       "      <td>10</td>\n",
       "    </tr>\n",
       "  </tbody>\n",
       "</table>\n",
       "</div>"
      ],
      "text/plain": [
       "    Name       Domain  Age   Location  Exp\n",
       "0   Mike  Datascience   34     Mumbai    2\n",
       "1  Teddy      Testing   45  Bangalore    3\n",
       "2   Umar  Dataanalyst   50  Bangalore    4\n",
       "3   Jane    Analytics   50   Hyderbad    4\n",
       "4  Uttam   Statistics   67  Bangalore    5\n",
       "5    Kim          NLP   55      Delhi   10"
      ]
     },
     "execution_count": 133,
     "metadata": {},
     "output_type": "execute_result"
    }
   ],
   "source": [
    "data"
   ]
  },
  {
   "cell_type": "code",
   "execution_count": 134,
   "id": "6000f77b-d998-469f-a068-0bb1825c421e",
   "metadata": {},
   "outputs": [
    {
     "data": {
      "text/html": [
       "<div>\n",
       "<style scoped>\n",
       "    .dataframe tbody tr th:only-of-type {\n",
       "        vertical-align: middle;\n",
       "    }\n",
       "\n",
       "    .dataframe tbody tr th {\n",
       "        vertical-align: top;\n",
       "    }\n",
       "\n",
       "    .dataframe thead th {\n",
       "        text-align: right;\n",
       "    }\n",
       "</style>\n",
       "<table border=\"1\" class=\"dataframe\">\n",
       "  <thead>\n",
       "    <tr style=\"text-align: right;\">\n",
       "      <th></th>\n",
       "      <th>Name</th>\n",
       "      <th>Domain</th>\n",
       "      <th>Age</th>\n",
       "      <th>Location</th>\n",
       "      <th>Salary</th>\n",
       "      <th>Exp</th>\n",
       "    </tr>\n",
       "  </thead>\n",
       "  <tbody>\n",
       "    <tr>\n",
       "      <th>0</th>\n",
       "      <td>Mike</td>\n",
       "      <td>Datascience</td>\n",
       "      <td>34</td>\n",
       "      <td>Mumbai</td>\n",
       "      <td>5000</td>\n",
       "      <td>2</td>\n",
       "    </tr>\n",
       "    <tr>\n",
       "      <th>1</th>\n",
       "      <td>Teddy</td>\n",
       "      <td>Testing</td>\n",
       "      <td>45</td>\n",
       "      <td>Bangalore</td>\n",
       "      <td>10000</td>\n",
       "      <td>3</td>\n",
       "    </tr>\n",
       "    <tr>\n",
       "      <th>2</th>\n",
       "      <td>Umar</td>\n",
       "      <td>Dataanalyst</td>\n",
       "      <td>50</td>\n",
       "      <td>Bangalore</td>\n",
       "      <td>15000</td>\n",
       "      <td>4</td>\n",
       "    </tr>\n",
       "    <tr>\n",
       "      <th>3</th>\n",
       "      <td>Jane</td>\n",
       "      <td>Analytics</td>\n",
       "      <td>50</td>\n",
       "      <td>Hyderbad</td>\n",
       "      <td>20000</td>\n",
       "      <td>4</td>\n",
       "    </tr>\n",
       "    <tr>\n",
       "      <th>4</th>\n",
       "      <td>Uttam</td>\n",
       "      <td>Statistics</td>\n",
       "      <td>67</td>\n",
       "      <td>Bangalore</td>\n",
       "      <td>30000</td>\n",
       "      <td>5</td>\n",
       "    </tr>\n",
       "    <tr>\n",
       "      <th>5</th>\n",
       "      <td>Kim</td>\n",
       "      <td>NLP</td>\n",
       "      <td>55</td>\n",
       "      <td>Delhi</td>\n",
       "      <td>60000</td>\n",
       "      <td>10</td>\n",
       "    </tr>\n",
       "  </tbody>\n",
       "</table>\n",
       "</div>"
      ],
      "text/plain": [
       "    Name       Domain  Age   Location  Salary  Exp\n",
       "0   Mike  Datascience   34     Mumbai    5000    2\n",
       "1  Teddy      Testing   45  Bangalore   10000    3\n",
       "2   Umar  Dataanalyst   50  Bangalore   15000    4\n",
       "3   Jane    Analytics   50   Hyderbad   20000    4\n",
       "4  Uttam   Statistics   67  Bangalore   30000    5\n",
       "5    Kim          NLP   55      Delhi   60000   10"
      ]
     },
     "execution_count": 134,
     "metadata": {},
     "output_type": "execute_result"
    }
   ],
   "source": [
    "clean_data"
   ]
  },
  {
   "cell_type": "code",
   "execution_count": 135,
   "id": "fede0e87-ea80-4ba1-8d6c-6c46038d0b19",
   "metadata": {},
   "outputs": [
    {
     "data": {
      "text/html": [
       "<div>\n",
       "<style scoped>\n",
       "    .dataframe tbody tr th:only-of-type {\n",
       "        vertical-align: middle;\n",
       "    }\n",
       "\n",
       "    .dataframe tbody tr th {\n",
       "        vertical-align: top;\n",
       "    }\n",
       "\n",
       "    .dataframe thead th {\n",
       "        text-align: right;\n",
       "    }\n",
       "</style>\n",
       "<table border=\"1\" class=\"dataframe\">\n",
       "  <thead>\n",
       "    <tr style=\"text-align: right;\">\n",
       "      <th></th>\n",
       "      <th>Name</th>\n",
       "      <th>Domain</th>\n",
       "      <th>Age</th>\n",
       "      <th>Location</th>\n",
       "      <th>Exp</th>\n",
       "    </tr>\n",
       "  </thead>\n",
       "  <tbody>\n",
       "    <tr>\n",
       "      <th>0</th>\n",
       "      <td>Mike</td>\n",
       "      <td>Datascience</td>\n",
       "      <td>34</td>\n",
       "      <td>Mumbai</td>\n",
       "      <td>2</td>\n",
       "    </tr>\n",
       "    <tr>\n",
       "      <th>1</th>\n",
       "      <td>Teddy</td>\n",
       "      <td>Testing</td>\n",
       "      <td>45</td>\n",
       "      <td>Bangalore</td>\n",
       "      <td>3</td>\n",
       "    </tr>\n",
       "    <tr>\n",
       "      <th>2</th>\n",
       "      <td>Umar</td>\n",
       "      <td>Dataanalyst</td>\n",
       "      <td>50</td>\n",
       "      <td>Bangalore</td>\n",
       "      <td>4</td>\n",
       "    </tr>\n",
       "    <tr>\n",
       "      <th>3</th>\n",
       "      <td>Jane</td>\n",
       "      <td>Analytics</td>\n",
       "      <td>50</td>\n",
       "      <td>Hyderbad</td>\n",
       "      <td>4</td>\n",
       "    </tr>\n",
       "    <tr>\n",
       "      <th>4</th>\n",
       "      <td>Uttam</td>\n",
       "      <td>Statistics</td>\n",
       "      <td>67</td>\n",
       "      <td>Bangalore</td>\n",
       "      <td>5</td>\n",
       "    </tr>\n",
       "    <tr>\n",
       "      <th>5</th>\n",
       "      <td>Kim</td>\n",
       "      <td>NLP</td>\n",
       "      <td>55</td>\n",
       "      <td>Delhi</td>\n",
       "      <td>10</td>\n",
       "    </tr>\n",
       "  </tbody>\n",
       "</table>\n",
       "</div>"
      ],
      "text/plain": [
       "    Name       Domain  Age   Location  Exp\n",
       "0   Mike  Datascience   34     Mumbai    2\n",
       "1  Teddy      Testing   45  Bangalore    3\n",
       "2   Umar  Dataanalyst   50  Bangalore    4\n",
       "3   Jane    Analytics   50   Hyderbad    4\n",
       "4  Uttam   Statistics   67  Bangalore    5\n",
       "5    Kim          NLP   55      Delhi   10"
      ]
     },
     "execution_count": 135,
     "metadata": {},
     "output_type": "execute_result"
    }
   ],
   "source": [
    "data"
   ]
  },
  {
   "cell_type": "code",
   "execution_count": 138,
   "id": "d98ecc1e-6e36-425c-9f9d-d90ff47b47b2",
   "metadata": {},
   "outputs": [
    {
     "ename": "TypeError",
     "evalue": "'DataFrame' object is not callable",
     "output_type": "error",
     "traceback": [
      "\u001b[1;31m---------------------------------------------------------------------------\u001b[0m",
      "\u001b[1;31mTypeError\u001b[0m                                 Traceback (most recent call last)",
      "Cell \u001b[1;32mIn[138], line 1\u001b[0m\n\u001b[1;32m----> 1\u001b[0m data\u001b[38;5;241m=\u001b[39m\u001b[43mclean_data\u001b[49m\u001b[43m(\u001b[49m\u001b[43m[\u001b[49m\u001b[38;5;124;43m'\u001b[39;49m\u001b[38;5;124;43mExp\u001b[39;49m\u001b[38;5;124;43m'\u001b[39;49m\u001b[43m]\u001b[49m\u001b[43m,\u001b[49m\u001b[43maxis\u001b[49m\u001b[38;5;241;43m=\u001b[39;49m\u001b[38;5;241;43m1\u001b[39;49m\u001b[43m)\u001b[49m\n",
      "\u001b[1;31mTypeError\u001b[0m: 'DataFrame' object is not callable"
     ]
    }
   ],
   "source": [
    "data=clean_data(['Exp'],axis=1)"
   ]
  },
  {
   "cell_type": "code",
   "execution_count": 139,
   "id": "f00bc11f-c60b-4d21-8e4e-d8188cf29cf7",
   "metadata": {},
   "outputs": [
    {
     "data": {
      "text/html": [
       "<div>\n",
       "<style scoped>\n",
       "    .dataframe tbody tr th:only-of-type {\n",
       "        vertical-align: middle;\n",
       "    }\n",
       "\n",
       "    .dataframe tbody tr th {\n",
       "        vertical-align: top;\n",
       "    }\n",
       "\n",
       "    .dataframe thead th {\n",
       "        text-align: right;\n",
       "    }\n",
       "</style>\n",
       "<table border=\"1\" class=\"dataframe\">\n",
       "  <thead>\n",
       "    <tr style=\"text-align: right;\">\n",
       "      <th></th>\n",
       "      <th>Name</th>\n",
       "      <th>Domain</th>\n",
       "      <th>Age</th>\n",
       "      <th>Location</th>\n",
       "      <th>Exp</th>\n",
       "    </tr>\n",
       "  </thead>\n",
       "  <tbody>\n",
       "    <tr>\n",
       "      <th>0</th>\n",
       "      <td>Mike</td>\n",
       "      <td>Datascience</td>\n",
       "      <td>34</td>\n",
       "      <td>Mumbai</td>\n",
       "      <td>2</td>\n",
       "    </tr>\n",
       "    <tr>\n",
       "      <th>1</th>\n",
       "      <td>Teddy</td>\n",
       "      <td>Testing</td>\n",
       "      <td>45</td>\n",
       "      <td>Bangalore</td>\n",
       "      <td>3</td>\n",
       "    </tr>\n",
       "    <tr>\n",
       "      <th>2</th>\n",
       "      <td>Umar</td>\n",
       "      <td>Dataanalyst</td>\n",
       "      <td>50</td>\n",
       "      <td>Bangalore</td>\n",
       "      <td>4</td>\n",
       "    </tr>\n",
       "    <tr>\n",
       "      <th>3</th>\n",
       "      <td>Jane</td>\n",
       "      <td>Analytics</td>\n",
       "      <td>50</td>\n",
       "      <td>Hyderbad</td>\n",
       "      <td>4</td>\n",
       "    </tr>\n",
       "    <tr>\n",
       "      <th>4</th>\n",
       "      <td>Uttam</td>\n",
       "      <td>Statistics</td>\n",
       "      <td>67</td>\n",
       "      <td>Bangalore</td>\n",
       "      <td>5</td>\n",
       "    </tr>\n",
       "    <tr>\n",
       "      <th>5</th>\n",
       "      <td>Kim</td>\n",
       "      <td>NLP</td>\n",
       "      <td>55</td>\n",
       "      <td>Delhi</td>\n",
       "      <td>10</td>\n",
       "    </tr>\n",
       "  </tbody>\n",
       "</table>\n",
       "</div>"
      ],
      "text/plain": [
       "    Name       Domain  Age   Location  Exp\n",
       "0   Mike  Datascience   34     Mumbai    2\n",
       "1  Teddy      Testing   45  Bangalore    3\n",
       "2   Umar  Dataanalyst   50  Bangalore    4\n",
       "3   Jane    Analytics   50   Hyderbad    4\n",
       "4  Uttam   Statistics   67  Bangalore    5\n",
       "5    Kim          NLP   55      Delhi   10"
      ]
     },
     "execution_count": 139,
     "metadata": {},
     "output_type": "execute_result"
    }
   ],
   "source": [
    "data"
   ]
  },
  {
   "cell_type": "code",
   "execution_count": 140,
   "id": "27547e66-0cff-4e05-a1a9-2eccb9fc01b9",
   "metadata": {},
   "outputs": [
    {
     "data": {
      "text/plain": [
       "Index(['Name', 'Domain', 'Age', 'Location', 'Salary', 'Exp'], dtype='object')"
      ]
     },
     "execution_count": 140,
     "metadata": {},
     "output_type": "execute_result"
    }
   ],
   "source": [
    "clean_data.columns\n"
   ]
  },
  {
   "cell_type": "code",
   "execution_count": 141,
   "id": "83b1011d-4896-432c-8060-3ab5f5dbe416",
   "metadata": {},
   "outputs": [
    {
     "data": {
      "text/plain": [
       "Index(['Name', 'Domain', 'Age', 'Location', 'Exp'], dtype='object')"
      ]
     },
     "execution_count": 141,
     "metadata": {},
     "output_type": "execute_result"
    }
   ],
   "source": [
    "data.columns"
   ]
  },
  {
   "cell_type": "code",
   "execution_count": 142,
   "id": "f062a3a6-90a1-4319-89e6-c6f2b5001068",
   "metadata": {},
   "outputs": [],
   "source": [
    "clean_data2 = clean_data.drop(['Name','Domain','Age'],axis=1)"
   ]
  },
  {
   "cell_type": "code",
   "execution_count": 143,
   "id": "f573ea14-cb0b-4766-a6d2-a7a963c791d9",
   "metadata": {},
   "outputs": [
    {
     "data": {
      "text/html": [
       "<div>\n",
       "<style scoped>\n",
       "    .dataframe tbody tr th:only-of-type {\n",
       "        vertical-align: middle;\n",
       "    }\n",
       "\n",
       "    .dataframe tbody tr th {\n",
       "        vertical-align: top;\n",
       "    }\n",
       "\n",
       "    .dataframe thead th {\n",
       "        text-align: right;\n",
       "    }\n",
       "</style>\n",
       "<table border=\"1\" class=\"dataframe\">\n",
       "  <thead>\n",
       "    <tr style=\"text-align: right;\">\n",
       "      <th></th>\n",
       "      <th>Location</th>\n",
       "      <th>Salary</th>\n",
       "      <th>Exp</th>\n",
       "    </tr>\n",
       "  </thead>\n",
       "  <tbody>\n",
       "    <tr>\n",
       "      <th>0</th>\n",
       "      <td>Mumbai</td>\n",
       "      <td>5000</td>\n",
       "      <td>2</td>\n",
       "    </tr>\n",
       "    <tr>\n",
       "      <th>1</th>\n",
       "      <td>Bangalore</td>\n",
       "      <td>10000</td>\n",
       "      <td>3</td>\n",
       "    </tr>\n",
       "    <tr>\n",
       "      <th>2</th>\n",
       "      <td>Bangalore</td>\n",
       "      <td>15000</td>\n",
       "      <td>4</td>\n",
       "    </tr>\n",
       "    <tr>\n",
       "      <th>3</th>\n",
       "      <td>Hyderbad</td>\n",
       "      <td>20000</td>\n",
       "      <td>4</td>\n",
       "    </tr>\n",
       "    <tr>\n",
       "      <th>4</th>\n",
       "      <td>Bangalore</td>\n",
       "      <td>30000</td>\n",
       "      <td>5</td>\n",
       "    </tr>\n",
       "    <tr>\n",
       "      <th>5</th>\n",
       "      <td>Delhi</td>\n",
       "      <td>60000</td>\n",
       "      <td>10</td>\n",
       "    </tr>\n",
       "  </tbody>\n",
       "</table>\n",
       "</div>"
      ],
      "text/plain": [
       "    Location  Salary  Exp\n",
       "0     Mumbai    5000    2\n",
       "1  Bangalore   10000    3\n",
       "2  Bangalore   15000    4\n",
       "3   Hyderbad   20000    4\n",
       "4  Bangalore   30000    5\n",
       "5      Delhi   60000   10"
      ]
     },
     "execution_count": 143,
     "metadata": {},
     "output_type": "execute_result"
    }
   ],
   "source": [
    "clean_data2"
   ]
  },
  {
   "cell_type": "code",
   "execution_count": 144,
   "id": "1a43ed38-59c1-4955-808d-c790dbf95fd0",
   "metadata": {},
   "outputs": [],
   "source": [
    "data5 = pd.get_dummies(clean_data)"
   ]
  },
  {
   "cell_type": "code",
   "execution_count": 145,
   "id": "f46e5418-2a2c-4aac-bb1d-7bffc7de2d06",
   "metadata": {},
   "outputs": [
    {
     "data": {
      "text/html": [
       "<div>\n",
       "<style scoped>\n",
       "    .dataframe tbody tr th:only-of-type {\n",
       "        vertical-align: middle;\n",
       "    }\n",
       "\n",
       "    .dataframe tbody tr th {\n",
       "        vertical-align: top;\n",
       "    }\n",
       "\n",
       "    .dataframe thead th {\n",
       "        text-align: right;\n",
       "    }\n",
       "</style>\n",
       "<table border=\"1\" class=\"dataframe\">\n",
       "  <thead>\n",
       "    <tr style=\"text-align: right;\">\n",
       "      <th></th>\n",
       "      <th>Age</th>\n",
       "      <th>Salary</th>\n",
       "      <th>Exp</th>\n",
       "      <th>Name_Jane</th>\n",
       "      <th>Name_Kim</th>\n",
       "      <th>Name_Mike</th>\n",
       "      <th>Name_Teddy</th>\n",
       "      <th>Name_Umar</th>\n",
       "      <th>Name_Uttam</th>\n",
       "      <th>Domain_Analytics</th>\n",
       "      <th>Domain_Dataanalyst</th>\n",
       "      <th>Domain_Datascience</th>\n",
       "      <th>Domain_NLP</th>\n",
       "      <th>Domain_Statistics</th>\n",
       "      <th>Domain_Testing</th>\n",
       "      <th>Location_Bangalore</th>\n",
       "      <th>Location_Delhi</th>\n",
       "      <th>Location_Hyderbad</th>\n",
       "      <th>Location_Mumbai</th>\n",
       "    </tr>\n",
       "  </thead>\n",
       "  <tbody>\n",
       "    <tr>\n",
       "      <th>0</th>\n",
       "      <td>34</td>\n",
       "      <td>5000</td>\n",
       "      <td>2</td>\n",
       "      <td>False</td>\n",
       "      <td>False</td>\n",
       "      <td>True</td>\n",
       "      <td>False</td>\n",
       "      <td>False</td>\n",
       "      <td>False</td>\n",
       "      <td>False</td>\n",
       "      <td>False</td>\n",
       "      <td>True</td>\n",
       "      <td>False</td>\n",
       "      <td>False</td>\n",
       "      <td>False</td>\n",
       "      <td>False</td>\n",
       "      <td>False</td>\n",
       "      <td>False</td>\n",
       "      <td>True</td>\n",
       "    </tr>\n",
       "    <tr>\n",
       "      <th>1</th>\n",
       "      <td>45</td>\n",
       "      <td>10000</td>\n",
       "      <td>3</td>\n",
       "      <td>False</td>\n",
       "      <td>False</td>\n",
       "      <td>False</td>\n",
       "      <td>True</td>\n",
       "      <td>False</td>\n",
       "      <td>False</td>\n",
       "      <td>False</td>\n",
       "      <td>False</td>\n",
       "      <td>False</td>\n",
       "      <td>False</td>\n",
       "      <td>False</td>\n",
       "      <td>True</td>\n",
       "      <td>True</td>\n",
       "      <td>False</td>\n",
       "      <td>False</td>\n",
       "      <td>False</td>\n",
       "    </tr>\n",
       "    <tr>\n",
       "      <th>2</th>\n",
       "      <td>50</td>\n",
       "      <td>15000</td>\n",
       "      <td>4</td>\n",
       "      <td>False</td>\n",
       "      <td>False</td>\n",
       "      <td>False</td>\n",
       "      <td>False</td>\n",
       "      <td>True</td>\n",
       "      <td>False</td>\n",
       "      <td>False</td>\n",
       "      <td>True</td>\n",
       "      <td>False</td>\n",
       "      <td>False</td>\n",
       "      <td>False</td>\n",
       "      <td>False</td>\n",
       "      <td>True</td>\n",
       "      <td>False</td>\n",
       "      <td>False</td>\n",
       "      <td>False</td>\n",
       "    </tr>\n",
       "    <tr>\n",
       "      <th>3</th>\n",
       "      <td>50</td>\n",
       "      <td>20000</td>\n",
       "      <td>4</td>\n",
       "      <td>True</td>\n",
       "      <td>False</td>\n",
       "      <td>False</td>\n",
       "      <td>False</td>\n",
       "      <td>False</td>\n",
       "      <td>False</td>\n",
       "      <td>True</td>\n",
       "      <td>False</td>\n",
       "      <td>False</td>\n",
       "      <td>False</td>\n",
       "      <td>False</td>\n",
       "      <td>False</td>\n",
       "      <td>False</td>\n",
       "      <td>False</td>\n",
       "      <td>True</td>\n",
       "      <td>False</td>\n",
       "    </tr>\n",
       "    <tr>\n",
       "      <th>4</th>\n",
       "      <td>67</td>\n",
       "      <td>30000</td>\n",
       "      <td>5</td>\n",
       "      <td>False</td>\n",
       "      <td>False</td>\n",
       "      <td>False</td>\n",
       "      <td>False</td>\n",
       "      <td>False</td>\n",
       "      <td>True</td>\n",
       "      <td>False</td>\n",
       "      <td>False</td>\n",
       "      <td>False</td>\n",
       "      <td>False</td>\n",
       "      <td>True</td>\n",
       "      <td>False</td>\n",
       "      <td>True</td>\n",
       "      <td>False</td>\n",
       "      <td>False</td>\n",
       "      <td>False</td>\n",
       "    </tr>\n",
       "    <tr>\n",
       "      <th>5</th>\n",
       "      <td>55</td>\n",
       "      <td>60000</td>\n",
       "      <td>10</td>\n",
       "      <td>False</td>\n",
       "      <td>True</td>\n",
       "      <td>False</td>\n",
       "      <td>False</td>\n",
       "      <td>False</td>\n",
       "      <td>False</td>\n",
       "      <td>False</td>\n",
       "      <td>False</td>\n",
       "      <td>False</td>\n",
       "      <td>True</td>\n",
       "      <td>False</td>\n",
       "      <td>False</td>\n",
       "      <td>False</td>\n",
       "      <td>True</td>\n",
       "      <td>False</td>\n",
       "      <td>False</td>\n",
       "    </tr>\n",
       "  </tbody>\n",
       "</table>\n",
       "</div>"
      ],
      "text/plain": [
       "   Age  Salary  Exp  Name_Jane  Name_Kim  Name_Mike  Name_Teddy  Name_Umar  \\\n",
       "0   34    5000    2      False     False       True       False      False   \n",
       "1   45   10000    3      False     False      False        True      False   \n",
       "2   50   15000    4      False     False      False       False       True   \n",
       "3   50   20000    4       True     False      False       False      False   \n",
       "4   67   30000    5      False     False      False       False      False   \n",
       "5   55   60000   10      False      True      False       False      False   \n",
       "\n",
       "   Name_Uttam  Domain_Analytics  Domain_Dataanalyst  Domain_Datascience  \\\n",
       "0       False             False               False                True   \n",
       "1       False             False               False               False   \n",
       "2       False             False                True               False   \n",
       "3       False              True               False               False   \n",
       "4        True             False               False               False   \n",
       "5       False             False               False               False   \n",
       "\n",
       "   Domain_NLP  Domain_Statistics  Domain_Testing  Location_Bangalore  \\\n",
       "0       False              False           False               False   \n",
       "1       False              False            True                True   \n",
       "2       False              False           False                True   \n",
       "3       False              False           False               False   \n",
       "4       False               True           False                True   \n",
       "5        True              False           False               False   \n",
       "\n",
       "   Location_Delhi  Location_Hyderbad  Location_Mumbai  \n",
       "0           False              False             True  \n",
       "1           False              False            False  \n",
       "2           False              False            False  \n",
       "3           False               True            False  \n",
       "4           False              False            False  \n",
       "5            True              False            False  "
      ]
     },
     "execution_count": 145,
     "metadata": {},
     "output_type": "execute_result"
    }
   ],
   "source": [
    "data5"
   ]
  },
  {
   "cell_type": "code",
   "execution_count": null,
   "id": "75417adb-5230-47a6-8d83-273b52edbc51",
   "metadata": {},
   "outputs": [],
   "source": []
  }
 ],
 "metadata": {
  "kernelspec": {
   "display_name": "Python 3 (ipykernel)",
   "language": "python",
   "name": "python3"
  },
  "language_info": {
   "codemirror_mode": {
    "name": "ipython",
    "version": 3
   },
   "file_extension": ".py",
   "mimetype": "text/x-python",
   "name": "python",
   "nbconvert_exporter": "python",
   "pygments_lexer": "ipython3",
   "version": "3.10.13"
  }
 },
 "nbformat": 4,
 "nbformat_minor": 5
}
